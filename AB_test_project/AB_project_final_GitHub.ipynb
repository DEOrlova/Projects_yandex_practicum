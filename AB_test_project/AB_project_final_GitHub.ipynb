{
 "cells": [
  {
   "cell_type": "markdown",
   "id": "21218ac1",
   "metadata": {
    "toc": true
   },
   "source": [
    "<h1>Table of Contents<span class=\"tocSkip\"></span></h1>\n",
    "<div class=\"toc\"><ul class=\"toc-item\"><li><span><a href=\"#Знакомство-с-данными-и-предобработка\" data-toc-modified-id=\"Знакомство-с-данными-и-предобработка-1\"><span class=\"toc-item-num\">1&nbsp;&nbsp;</span>Знакомство с данными и предобработка</a></span><ul class=\"toc-item\"><li><span><a href=\"#Предобработка-ab_project_marketing_events.csv\" data-toc-modified-id=\"Предобработка-ab_project_marketing_events.csv-1.1\"><span class=\"toc-item-num\">1.1&nbsp;&nbsp;</span>Предобработка <code>ab_project_marketing_events.csv</code></a></span></li><li><span><a href=\"#Предобработка-final_ab_new_users.csv\" data-toc-modified-id=\"Предобработка-final_ab_new_users.csv-1.2\"><span class=\"toc-item-num\">1.2&nbsp;&nbsp;</span>Предобработка <code>final_ab_new_users.csv</code></a></span></li><li><span><a href=\"#Предобработка-final_ab_events.csv\" data-toc-modified-id=\"Предобработка-final_ab_events.csv-1.3\"><span class=\"toc-item-num\">1.3&nbsp;&nbsp;</span>Предобработка <code>final_ab_events.csv</code></a></span></li><li><span><a href=\"#Предобработка-final_ab_participants.csv\" data-toc-modified-id=\"Предобработка-final_ab_participants.csv-1.4\"><span class=\"toc-item-num\">1.4&nbsp;&nbsp;</span>Предобработка <code>final_ab_participants.csv</code></a></span></li><li><span><a href=\"#Техническое-задание\" data-toc-modified-id=\"Техническое-задание-1.5\"><span class=\"toc-item-num\">1.5&nbsp;&nbsp;</span>Техническое задание</a></span><ul class=\"toc-item\"><li><span><a href=\"#проверяем-название-теста:\" data-toc-modified-id=\"проверяем-название-теста:-1.5.1\"><span class=\"toc-item-num\">1.5.1&nbsp;&nbsp;</span>проверяем название теста:</a></span></li><li><span><a href=\"#корректность-разделения-на-группы:-А-—-контрольная,-B-—-новая-платёжная-воронка\" data-toc-modified-id=\"корректность-разделения-на-группы:-А-—-контрольная,-B-—-новая-платёжная-воронка-1.5.2\"><span class=\"toc-item-num\">1.5.2&nbsp;&nbsp;</span>корректность разделения на группы: А — контрольная, B — новая платёжная воронка</a></span></li><li><span><a href=\"#аудитория\" data-toc-modified-id=\"аудитория-1.5.3\"><span class=\"toc-item-num\">1.5.3&nbsp;&nbsp;</span>аудитория</a></span></li><li><span><a href=\"#даты\" data-toc-modified-id=\"даты-1.5.4\"><span class=\"toc-item-num\">1.5.4&nbsp;&nbsp;</span>даты</a></span></li><li><span><a href=\"#маркетинговые-активности\" data-toc-modified-id=\"маркетинговые-активности-1.5.5\"><span class=\"toc-item-num\">1.5.5&nbsp;&nbsp;</span>маркетинговые активности</a></span></li><li><span><a href=\"#ожидаемое-количество-участников-теста:-6000\" data-toc-modified-id=\"ожидаемое-количество-участников-теста:-6000-1.5.6\"><span class=\"toc-item-num\">1.5.6&nbsp;&nbsp;</span>ожидаемое количество участников теста: 6000</a></span></li><li><span><a href=\"#ожидаемый-эффект:\" data-toc-modified-id=\"ожидаемый-эффект:-1.5.7\"><span class=\"toc-item-num\">1.5.7&nbsp;&nbsp;</span>ожидаемый эффект:</a></span></li></ul></li></ul></li><li><span><a href=\"#Исследовательский-анализ\" data-toc-modified-id=\"Исследовательский-анализ-2\"><span class=\"toc-item-num\">2&nbsp;&nbsp;</span>Исследовательский анализ</a></span><ul class=\"toc-item\"><li><span><a href=\"#Количество-событий-на-пользователя\" data-toc-modified-id=\"Количество-событий-на-пользователя-2.1\"><span class=\"toc-item-num\">2.1&nbsp;&nbsp;</span>Количество событий на пользователя</a></span></li><li><span><a href=\"#Число-событий-в-выборках-по-дням\" data-toc-modified-id=\"Число-событий-в-выборках-по-дням-2.2\"><span class=\"toc-item-num\">2.2&nbsp;&nbsp;</span>Число событий в выборках по дням</a></span></li><li><span><a href=\"#Число-событий-в-выборках-по-lifetime\" data-toc-modified-id=\"Число-событий-в-выборках-по-lifetime-2.3\"><span class=\"toc-item-num\">2.3&nbsp;&nbsp;</span>Число событий в выборках по lifetime</a></span></li></ul></li><li><span><a href=\"#Результаты-A/B-тестирования\" data-toc-modified-id=\"Результаты-A/B-тестирования-3\"><span class=\"toc-item-num\">3&nbsp;&nbsp;</span>Результаты A/B-тестирования</a></span><ul class=\"toc-item\"><li><span><a href=\"#Конверсия-в-воронке-в-выборках-на-разных-этапах\" data-toc-modified-id=\"Конверсия-в-воронке-в-выборках-на-разных-этапах-3.1\"><span class=\"toc-item-num\">3.1&nbsp;&nbsp;</span>Конверсия в воронке в выборках на разных этапах</a></span></li><li><span><a href=\"#Проверка-разницы-долей.\" data-toc-modified-id=\"Проверка-разницы-долей.-3.2\"><span class=\"toc-item-num\">3.2&nbsp;&nbsp;</span>Проверка разницы долей.</a></span><ul class=\"toc-item\"><li><span><a href=\"#Уровень-значимости-и-поправка\" data-toc-modified-id=\"Уровень-значимости-и-поправка-3.2.1\"><span class=\"toc-item-num\">3.2.1&nbsp;&nbsp;</span>Уровень значимости и поправка</a></span></li></ul></li><li><span><a href=\"#Проверка-гипотез\" data-toc-modified-id=\"Проверка-гипотез-3.3\"><span class=\"toc-item-num\">3.3&nbsp;&nbsp;</span>Проверка гипотез</a></span></li></ul></li><li><span><a href=\"#Выводы\" data-toc-modified-id=\"Выводы-4\"><span class=\"toc-item-num\">4&nbsp;&nbsp;</span>Выводы</a></span></li></ul></div>"
   ]
  },
  {
   "cell_type": "markdown",
   "id": "fad71064",
   "metadata": {},
   "source": [
    "## Знакомство с данными и предобработка"
   ]
  },
  {
   "cell_type": "code",
   "execution_count": 1,
   "id": "86cd40c6",
   "metadata": {},
   "outputs": [],
   "source": [
    "# для отображения графиков plotly в github\n",
    "import plotly.io as pio\n",
    "pio.renderers.default = \"png\""
   ]
  },
  {
   "cell_type": "code",
   "execution_count": 2,
   "id": "ed0b8fce",
   "metadata": {},
   "outputs": [],
   "source": [
    "# импортируем библиотеки для анализа\n",
    "import pandas as pd\n",
    "import seaborn as sns\n",
    "import matplotlib.pyplot as plt\n",
    "import plotly.express as px\n",
    "from plotly import graph_objects as go\n",
    "import numpy as np\n",
    "from statsmodels.stats.proportion import proportions_ztest as ztest\n",
    "from scipy.stats import shapiro, mannwhitneyu"
   ]
  },
  {
   "cell_type": "markdown",
   "id": "4aedbca5",
   "metadata": {},
   "source": [
    "При открытии файлов воспользуемся параметром `parse_dates`, чтобы даты сразу выгрузились в datetime."
   ]
  },
  {
   "cell_type": "code",
   "execution_count": 3,
   "id": "830009a9",
   "metadata": {},
   "outputs": [],
   "source": [
    "marketing = pd.read_csv('ab_project_marketing_events.csv', parse_dates=[2, 3])\n",
    "users = pd.read_csv('final_ab_new_users.csv', parse_dates=[1])\n",
    "events = pd.read_csv('final_ab_events.csv', parse_dates=[1])\n",
    "table = pd.read_csv('final_ab_participants.csv')"
   ]
  },
  {
   "cell_type": "markdown",
   "id": "72cbeac2",
   "metadata": {},
   "source": [
    "Поочередно изучим все датасеты с помощью функции предобработки данных и дополнительных методов при необходимости."
   ]
  },
  {
   "cell_type": "code",
   "execution_count": 4,
   "id": "7e2e447d",
   "metadata": {},
   "outputs": [],
   "source": [
    "# функция для базовой оценки структуры данных\n",
    "def data_preprocessing(df, num=5):\n",
    "    display(df.head(num))\n",
    "    print('*'*50)\n",
    "    df.info()\n",
    "    print('*'*50)\n",
    "    print('Доля пропусков: ', df.isna().mean().sort_values(ascending=False), sep='\\n')\n",
    "    print('*'*50)\n",
    "    print('Полных дубликатов: ', df.duplicated().sum())\n",
    "    print('*'*50)\n",
    "    print(f'Исходный дф содержит: {df.shape[0]} строк')\n",
    "    print('*'*50)"
   ]
  },
  {
   "cell_type": "markdown",
   "id": "0a733497",
   "metadata": {},
   "source": [
    "### Предобработка `ab_project_marketing_events.csv`"
   ]
  },
  {
   "cell_type": "code",
   "execution_count": 5,
   "id": "8da31003",
   "metadata": {},
   "outputs": [
    {
     "data": {
      "text/html": [
       "<div>\n",
       "<style scoped>\n",
       "    .dataframe tbody tr th:only-of-type {\n",
       "        vertical-align: middle;\n",
       "    }\n",
       "\n",
       "    .dataframe tbody tr th {\n",
       "        vertical-align: top;\n",
       "    }\n",
       "\n",
       "    .dataframe thead th {\n",
       "        text-align: right;\n",
       "    }\n",
       "</style>\n",
       "<table border=\"1\" class=\"dataframe\">\n",
       "  <thead>\n",
       "    <tr style=\"text-align: right;\">\n",
       "      <th></th>\n",
       "      <th>name</th>\n",
       "      <th>regions</th>\n",
       "      <th>start_dt</th>\n",
       "      <th>finish_dt</th>\n",
       "    </tr>\n",
       "  </thead>\n",
       "  <tbody>\n",
       "    <tr>\n",
       "      <th>0</th>\n",
       "      <td>Christmas&amp;New Year Promo</td>\n",
       "      <td>EU, N.America</td>\n",
       "      <td>2020-12-25</td>\n",
       "      <td>2021-01-03</td>\n",
       "    </tr>\n",
       "    <tr>\n",
       "      <th>1</th>\n",
       "      <td>St. Valentine's Day Giveaway</td>\n",
       "      <td>EU, CIS, APAC, N.America</td>\n",
       "      <td>2020-02-14</td>\n",
       "      <td>2020-02-16</td>\n",
       "    </tr>\n",
       "    <tr>\n",
       "      <th>2</th>\n",
       "      <td>St. Patric's Day Promo</td>\n",
       "      <td>EU, N.America</td>\n",
       "      <td>2020-03-17</td>\n",
       "      <td>2020-03-19</td>\n",
       "    </tr>\n",
       "    <tr>\n",
       "      <th>3</th>\n",
       "      <td>Easter Promo</td>\n",
       "      <td>EU, CIS, APAC, N.America</td>\n",
       "      <td>2020-04-12</td>\n",
       "      <td>2020-04-19</td>\n",
       "    </tr>\n",
       "    <tr>\n",
       "      <th>4</th>\n",
       "      <td>4th of July Promo</td>\n",
       "      <td>N.America</td>\n",
       "      <td>2020-07-04</td>\n",
       "      <td>2020-07-11</td>\n",
       "    </tr>\n",
       "    <tr>\n",
       "      <th>5</th>\n",
       "      <td>Black Friday Ads Campaign</td>\n",
       "      <td>EU, CIS, APAC, N.America</td>\n",
       "      <td>2020-11-26</td>\n",
       "      <td>2020-12-01</td>\n",
       "    </tr>\n",
       "    <tr>\n",
       "      <th>6</th>\n",
       "      <td>Chinese New Year Promo</td>\n",
       "      <td>APAC</td>\n",
       "      <td>2020-01-25</td>\n",
       "      <td>2020-02-07</td>\n",
       "    </tr>\n",
       "    <tr>\n",
       "      <th>7</th>\n",
       "      <td>Labor day (May 1st) Ads Campaign</td>\n",
       "      <td>EU, CIS, APAC</td>\n",
       "      <td>2020-05-01</td>\n",
       "      <td>2020-05-03</td>\n",
       "    </tr>\n",
       "    <tr>\n",
       "      <th>8</th>\n",
       "      <td>International Women's Day Promo</td>\n",
       "      <td>EU, CIS, APAC</td>\n",
       "      <td>2020-03-08</td>\n",
       "      <td>2020-03-10</td>\n",
       "    </tr>\n",
       "    <tr>\n",
       "      <th>9</th>\n",
       "      <td>Victory Day CIS (May 9th) Event</td>\n",
       "      <td>CIS</td>\n",
       "      <td>2020-05-09</td>\n",
       "      <td>2020-05-11</td>\n",
       "    </tr>\n",
       "    <tr>\n",
       "      <th>10</th>\n",
       "      <td>CIS New Year Gift Lottery</td>\n",
       "      <td>CIS</td>\n",
       "      <td>2020-12-30</td>\n",
       "      <td>2021-01-07</td>\n",
       "    </tr>\n",
       "    <tr>\n",
       "      <th>11</th>\n",
       "      <td>Dragon Boat Festival Giveaway</td>\n",
       "      <td>APAC</td>\n",
       "      <td>2020-06-25</td>\n",
       "      <td>2020-07-01</td>\n",
       "    </tr>\n",
       "    <tr>\n",
       "      <th>12</th>\n",
       "      <td>Single's Day Gift Promo</td>\n",
       "      <td>APAC</td>\n",
       "      <td>2020-11-11</td>\n",
       "      <td>2020-11-12</td>\n",
       "    </tr>\n",
       "    <tr>\n",
       "      <th>13</th>\n",
       "      <td>Chinese Moon Festival</td>\n",
       "      <td>APAC</td>\n",
       "      <td>2020-10-01</td>\n",
       "      <td>2020-10-07</td>\n",
       "    </tr>\n",
       "  </tbody>\n",
       "</table>\n",
       "</div>"
      ],
      "text/plain": [
       "                                name                   regions   start_dt  \\\n",
       "0           Christmas&New Year Promo             EU, N.America 2020-12-25   \n",
       "1       St. Valentine's Day Giveaway  EU, CIS, APAC, N.America 2020-02-14   \n",
       "2             St. Patric's Day Promo             EU, N.America 2020-03-17   \n",
       "3                       Easter Promo  EU, CIS, APAC, N.America 2020-04-12   \n",
       "4                  4th of July Promo                 N.America 2020-07-04   \n",
       "5          Black Friday Ads Campaign  EU, CIS, APAC, N.America 2020-11-26   \n",
       "6             Chinese New Year Promo                      APAC 2020-01-25   \n",
       "7   Labor day (May 1st) Ads Campaign             EU, CIS, APAC 2020-05-01   \n",
       "8    International Women's Day Promo             EU, CIS, APAC 2020-03-08   \n",
       "9    Victory Day CIS (May 9th) Event                       CIS 2020-05-09   \n",
       "10         CIS New Year Gift Lottery                       CIS 2020-12-30   \n",
       "11     Dragon Boat Festival Giveaway                      APAC 2020-06-25   \n",
       "12           Single's Day Gift Promo                      APAC 2020-11-11   \n",
       "13             Chinese Moon Festival                      APAC 2020-10-01   \n",
       "\n",
       "    finish_dt  \n",
       "0  2021-01-03  \n",
       "1  2020-02-16  \n",
       "2  2020-03-19  \n",
       "3  2020-04-19  \n",
       "4  2020-07-11  \n",
       "5  2020-12-01  \n",
       "6  2020-02-07  \n",
       "7  2020-05-03  \n",
       "8  2020-03-10  \n",
       "9  2020-05-11  \n",
       "10 2021-01-07  \n",
       "11 2020-07-01  \n",
       "12 2020-11-12  \n",
       "13 2020-10-07  "
      ]
     },
     "metadata": {},
     "output_type": "display_data"
    },
    {
     "name": "stdout",
     "output_type": "stream",
     "text": [
      "**************************************************\n",
      "<class 'pandas.core.frame.DataFrame'>\n",
      "RangeIndex: 14 entries, 0 to 13\n",
      "Data columns (total 4 columns):\n",
      " #   Column     Non-Null Count  Dtype         \n",
      "---  ------     --------------  -----         \n",
      " 0   name       14 non-null     object        \n",
      " 1   regions    14 non-null     object        \n",
      " 2   start_dt   14 non-null     datetime64[ns]\n",
      " 3   finish_dt  14 non-null     datetime64[ns]\n",
      "dtypes: datetime64[ns](2), object(2)\n",
      "memory usage: 576.0+ bytes\n",
      "**************************************************\n",
      "Доля пропусков: \n",
      "name         0.0\n",
      "regions      0.0\n",
      "start_dt     0.0\n",
      "finish_dt    0.0\n",
      "dtype: float64\n",
      "**************************************************\n",
      "Полных дубликатов:  0\n",
      "**************************************************\n",
      "Исходный дф содержит: 14 строк\n",
      "**************************************************\n"
     ]
    }
   ],
   "source": [
    "data_preprocessing(marketing, 14)"
   ]
  },
  {
   "cell_type": "markdown",
   "id": "19232872",
   "metadata": {},
   "source": [
    "- Наименования столбцов корректны и понятны.\n",
    "- По типам данных все соответствует:\n",
    "   - смущает, что в `regions` передан список, но пока непонятно, на что это может повлиять.\n",
    "- Пропусков нет.\n",
    "- Дубликатов нет.\n",
    "- Всего 14 строк."
   ]
  },
  {
   "cell_type": "markdown",
   "id": "a7991c97",
   "metadata": {},
   "source": [
    "### Предобработка `final_ab_new_users.csv`"
   ]
  },
  {
   "cell_type": "code",
   "execution_count": 6,
   "id": "ebe4ff0a",
   "metadata": {},
   "outputs": [
    {
     "data": {
      "text/html": [
       "<div>\n",
       "<style scoped>\n",
       "    .dataframe tbody tr th:only-of-type {\n",
       "        vertical-align: middle;\n",
       "    }\n",
       "\n",
       "    .dataframe tbody tr th {\n",
       "        vertical-align: top;\n",
       "    }\n",
       "\n",
       "    .dataframe thead th {\n",
       "        text-align: right;\n",
       "    }\n",
       "</style>\n",
       "<table border=\"1\" class=\"dataframe\">\n",
       "  <thead>\n",
       "    <tr style=\"text-align: right;\">\n",
       "      <th></th>\n",
       "      <th>user_id</th>\n",
       "      <th>first_date</th>\n",
       "      <th>region</th>\n",
       "      <th>device</th>\n",
       "    </tr>\n",
       "  </thead>\n",
       "  <tbody>\n",
       "    <tr>\n",
       "      <th>0</th>\n",
       "      <td>D72A72121175D8BE</td>\n",
       "      <td>2020-12-07</td>\n",
       "      <td>EU</td>\n",
       "      <td>PC</td>\n",
       "    </tr>\n",
       "    <tr>\n",
       "      <th>1</th>\n",
       "      <td>F1C668619DFE6E65</td>\n",
       "      <td>2020-12-07</td>\n",
       "      <td>N.America</td>\n",
       "      <td>Android</td>\n",
       "    </tr>\n",
       "    <tr>\n",
       "      <th>2</th>\n",
       "      <td>2E1BF1D4C37EA01F</td>\n",
       "      <td>2020-12-07</td>\n",
       "      <td>EU</td>\n",
       "      <td>PC</td>\n",
       "    </tr>\n",
       "    <tr>\n",
       "      <th>3</th>\n",
       "      <td>50734A22C0C63768</td>\n",
       "      <td>2020-12-07</td>\n",
       "      <td>EU</td>\n",
       "      <td>iPhone</td>\n",
       "    </tr>\n",
       "    <tr>\n",
       "      <th>4</th>\n",
       "      <td>E1BDDCE0DAFA2679</td>\n",
       "      <td>2020-12-07</td>\n",
       "      <td>N.America</td>\n",
       "      <td>iPhone</td>\n",
       "    </tr>\n",
       "  </tbody>\n",
       "</table>\n",
       "</div>"
      ],
      "text/plain": [
       "            user_id first_date     region   device\n",
       "0  D72A72121175D8BE 2020-12-07         EU       PC\n",
       "1  F1C668619DFE6E65 2020-12-07  N.America  Android\n",
       "2  2E1BF1D4C37EA01F 2020-12-07         EU       PC\n",
       "3  50734A22C0C63768 2020-12-07         EU   iPhone\n",
       "4  E1BDDCE0DAFA2679 2020-12-07  N.America   iPhone"
      ]
     },
     "metadata": {},
     "output_type": "display_data"
    },
    {
     "name": "stdout",
     "output_type": "stream",
     "text": [
      "**************************************************\n",
      "<class 'pandas.core.frame.DataFrame'>\n",
      "RangeIndex: 61733 entries, 0 to 61732\n",
      "Data columns (total 4 columns):\n",
      " #   Column      Non-Null Count  Dtype         \n",
      "---  ------      --------------  -----         \n",
      " 0   user_id     61733 non-null  object        \n",
      " 1   first_date  61733 non-null  datetime64[ns]\n",
      " 2   region      61733 non-null  object        \n",
      " 3   device      61733 non-null  object        \n",
      "dtypes: datetime64[ns](1), object(3)\n",
      "memory usage: 1.9+ MB\n",
      "**************************************************\n",
      "Доля пропусков: \n",
      "user_id       0.0\n",
      "first_date    0.0\n",
      "region        0.0\n",
      "device        0.0\n",
      "dtype: float64\n",
      "**************************************************\n",
      "Полных дубликатов:  0\n",
      "**************************************************\n",
      "Исходный дф содержит: 61733 строк\n",
      "**************************************************\n"
     ]
    }
   ],
   "source": [
    "data_preprocessing(users)"
   ]
  },
  {
   "cell_type": "markdown",
   "id": "bb436751",
   "metadata": {},
   "source": [
    "- Наименования столбцов корректны и понятны.\n",
    "- По типам данных все соответствует.\n",
    "- Пропусков нет.\n",
    "- Полных дубликатов нет.\n",
    "- Исходный дф содержит: 61733 строк."
   ]
  },
  {
   "cell_type": "markdown",
   "id": "1dd39e87",
   "metadata": {},
   "source": [
    "Полных дубликатов нет, проверим дубликаты в `user_id`."
   ]
  },
  {
   "cell_type": "code",
   "execution_count": 7,
   "id": "e6157c03",
   "metadata": {},
   "outputs": [
    {
     "data": {
      "text/plain": [
       "0"
      ]
     },
     "execution_count": 7,
     "metadata": {},
     "output_type": "execute_result"
    }
   ],
   "source": [
    "users.duplicated(subset=['user_id']).sum()"
   ]
  },
  {
   "cell_type": "markdown",
   "id": "aadacc98",
   "metadata": {},
   "source": [
    "Проверим даты. По тех заданию ожидаем, что пользователи регистрировались с 7 по 21 декабря 2020 года."
   ]
  },
  {
   "cell_type": "code",
   "execution_count": 8,
   "id": "2a4bb175",
   "metadata": {},
   "outputs": [
    {
     "name": "stdout",
     "output_type": "stream",
     "text": [
      "Первая дата регистрации 2020-12-07 00:00:00\n",
      "Последняя дата регистрации 2020-12-23 00:00:00\n"
     ]
    }
   ],
   "source": [
    "print(f'Первая дата регистрации {users.first_date.min()}')\n",
    "print(f'Последняя дата регистрации {users.first_date.max()}')"
   ]
  },
  {
   "cell_type": "code",
   "execution_count": 9,
   "id": "f3a6c88c",
   "metadata": {},
   "outputs": [
    {
     "data": {
      "text/plain": [
       "5263"
      ]
     },
     "execution_count": 9,
     "metadata": {},
     "output_type": "execute_result"
    }
   ],
   "source": [
    "users.query('first_date > \"2020-12-21\"').shape[0]"
   ]
  },
  {
   "cell_type": "markdown",
   "id": "ac9b631a",
   "metadata": {},
   "source": [
    "Каким-то образом попали пользователи, зарегистрировавшиеся после 21 декабря. Исключим их из анализа. "
   ]
  },
  {
   "cell_type": "code",
   "execution_count": 10,
   "id": "9f78f2de",
   "metadata": {},
   "outputs": [
    {
     "data": {
      "text/plain": [
       "56470"
      ]
     },
     "execution_count": 10,
     "metadata": {},
     "output_type": "execute_result"
    }
   ],
   "source": [
    "users = users.query('first_date <= \"2020-12-21\"')\n",
    "users.shape[0]"
   ]
  },
  {
   "cell_type": "code",
   "execution_count": 11,
   "id": "58a86a03",
   "metadata": {},
   "outputs": [
    {
     "data": {
      "text/plain": [
       "region\n",
       "EU           42340\n",
       "N.America     8347\n",
       "CIS           2900\n",
       "APAC          2883\n",
       "dtype: int64"
      ]
     },
     "execution_count": 11,
     "metadata": {},
     "output_type": "execute_result"
    }
   ],
   "source": [
    "users.value_counts('region')"
   ]
  },
  {
   "cell_type": "code",
   "execution_count": 12,
   "id": "be445dbc",
   "metadata": {},
   "outputs": [
    {
     "data": {
      "text/plain": [
       "device\n",
       "Android    25161\n",
       "PC         14310\n",
       "iPhone     11477\n",
       "Mac         5522\n",
       "dtype: int64"
      ]
     },
     "execution_count": 12,
     "metadata": {},
     "output_type": "execute_result"
    }
   ],
   "source": [
    "users.value_counts('device')"
   ]
  },
  {
   "cell_type": "markdown",
   "id": "287ebdea",
   "metadata": {},
   "source": [
    "Итого:\n",
    "- в интересующий нас период 7-21 декабря 2020 г зарегистрировалось 56470 пользователей,\n",
    "- регионы включают в себя Европейский Союз, Северную Америку, страны СНГ, Азиатско-Тихоокеанский регион,\n",
    "- пользователи регистрировались с 4 устройств: Андроид, ПК, Айфон, Мак."
   ]
  },
  {
   "cell_type": "markdown",
   "id": "4384f16e",
   "metadata": {},
   "source": [
    "### Предобработка `final_ab_events.csv`"
   ]
  },
  {
   "cell_type": "code",
   "execution_count": 13,
   "id": "db5eebd8",
   "metadata": {},
   "outputs": [
    {
     "data": {
      "text/html": [
       "<div>\n",
       "<style scoped>\n",
       "    .dataframe tbody tr th:only-of-type {\n",
       "        vertical-align: middle;\n",
       "    }\n",
       "\n",
       "    .dataframe tbody tr th {\n",
       "        vertical-align: top;\n",
       "    }\n",
       "\n",
       "    .dataframe thead th {\n",
       "        text-align: right;\n",
       "    }\n",
       "</style>\n",
       "<table border=\"1\" class=\"dataframe\">\n",
       "  <thead>\n",
       "    <tr style=\"text-align: right;\">\n",
       "      <th></th>\n",
       "      <th>user_id</th>\n",
       "      <th>event_dt</th>\n",
       "      <th>event_name</th>\n",
       "      <th>details</th>\n",
       "    </tr>\n",
       "  </thead>\n",
       "  <tbody>\n",
       "    <tr>\n",
       "      <th>0</th>\n",
       "      <td>E1BDDCE0DAFA2679</td>\n",
       "      <td>2020-12-07 20:22:03</td>\n",
       "      <td>purchase</td>\n",
       "      <td>99.99</td>\n",
       "    </tr>\n",
       "    <tr>\n",
       "      <th>1</th>\n",
       "      <td>7B6452F081F49504</td>\n",
       "      <td>2020-12-07 09:22:53</td>\n",
       "      <td>purchase</td>\n",
       "      <td>9.99</td>\n",
       "    </tr>\n",
       "    <tr>\n",
       "      <th>2</th>\n",
       "      <td>9CD9F34546DF254C</td>\n",
       "      <td>2020-12-07 12:59:29</td>\n",
       "      <td>purchase</td>\n",
       "      <td>4.99</td>\n",
       "    </tr>\n",
       "    <tr>\n",
       "      <th>3</th>\n",
       "      <td>96F27A054B191457</td>\n",
       "      <td>2020-12-07 04:02:40</td>\n",
       "      <td>purchase</td>\n",
       "      <td>4.99</td>\n",
       "    </tr>\n",
       "    <tr>\n",
       "      <th>4</th>\n",
       "      <td>1FD7660FDF94CA1F</td>\n",
       "      <td>2020-12-07 10:15:09</td>\n",
       "      <td>purchase</td>\n",
       "      <td>4.99</td>\n",
       "    </tr>\n",
       "  </tbody>\n",
       "</table>\n",
       "</div>"
      ],
      "text/plain": [
       "            user_id            event_dt event_name  details\n",
       "0  E1BDDCE0DAFA2679 2020-12-07 20:22:03   purchase    99.99\n",
       "1  7B6452F081F49504 2020-12-07 09:22:53   purchase     9.99\n",
       "2  9CD9F34546DF254C 2020-12-07 12:59:29   purchase     4.99\n",
       "3  96F27A054B191457 2020-12-07 04:02:40   purchase     4.99\n",
       "4  1FD7660FDF94CA1F 2020-12-07 10:15:09   purchase     4.99"
      ]
     },
     "metadata": {},
     "output_type": "display_data"
    },
    {
     "name": "stdout",
     "output_type": "stream",
     "text": [
      "**************************************************\n",
      "<class 'pandas.core.frame.DataFrame'>\n",
      "RangeIndex: 440317 entries, 0 to 440316\n",
      "Data columns (total 4 columns):\n",
      " #   Column      Non-Null Count   Dtype         \n",
      "---  ------      --------------   -----         \n",
      " 0   user_id     440317 non-null  object        \n",
      " 1   event_dt    440317 non-null  datetime64[ns]\n",
      " 2   event_name  440317 non-null  object        \n",
      " 3   details     62740 non-null   float64       \n",
      "dtypes: datetime64[ns](1), float64(1), object(2)\n",
      "memory usage: 13.4+ MB\n",
      "**************************************************\n",
      "Доля пропусков: \n",
      "details       0.857512\n",
      "user_id       0.000000\n",
      "event_dt      0.000000\n",
      "event_name    0.000000\n",
      "dtype: float64\n",
      "**************************************************\n",
      "Полных дубликатов:  0\n",
      "**************************************************\n",
      "Исходный дф содержит: 440317 строк\n",
      "**************************************************\n"
     ]
    }
   ],
   "source": [
    "data_preprocessing(events)"
   ]
  },
  {
   "cell_type": "markdown",
   "id": "4d4a3408",
   "metadata": {},
   "source": [
    "- Наименования столбцов корректны и понятны.\n",
    "- По типам данных все соответствует.\n",
    "- Пропуски в `details` почти 86% (но это столбец с дополнительной информацией для совершенных покупок, для остальных действий он не имеет значения, оставляем пропуски без изменений)\n",
    "- Дубликатов нет.\n",
    "- Исходный дф содержит: 440317 строк."
   ]
  },
  {
   "cell_type": "markdown",
   "id": "a59a4e36",
   "metadata": {},
   "source": [
    "Проверим даты. По тех заданию ожидаем период с 7 по 4 января 2021 года."
   ]
  },
  {
   "cell_type": "code",
   "execution_count": 14,
   "id": "7f40d653",
   "metadata": {},
   "outputs": [
    {
     "name": "stdout",
     "output_type": "stream",
     "text": [
      "Первая дата действий 2020-12-07 00:00:33\n",
      "Последняя дата действий 2020-12-30 23:36:33\n"
     ]
    }
   ],
   "source": [
    "print(f'Первая дата действий {events.event_dt.min()}')\n",
    "print(f'Последняя дата действий {events.event_dt.max()}')"
   ]
  },
  {
   "cell_type": "markdown",
   "id": "00334555",
   "metadata": {},
   "source": [
    "Данные не сходятся. Последнее действие зафиксировано от 30 декабря 2020г, а это значит, что принять участие в тесте смогут пользователи, зарегистрировавшиеся не по 21 декабря, а по 16 декабря 2020г."
   ]
  },
  {
   "cell_type": "markdown",
   "id": "e3db803d",
   "metadata": {},
   "source": [
    "### Предобработка `final_ab_participants.csv`"
   ]
  },
  {
   "cell_type": "code",
   "execution_count": 15,
   "id": "52998950",
   "metadata": {},
   "outputs": [
    {
     "data": {
      "text/html": [
       "<div>\n",
       "<style scoped>\n",
       "    .dataframe tbody tr th:only-of-type {\n",
       "        vertical-align: middle;\n",
       "    }\n",
       "\n",
       "    .dataframe tbody tr th {\n",
       "        vertical-align: top;\n",
       "    }\n",
       "\n",
       "    .dataframe thead th {\n",
       "        text-align: right;\n",
       "    }\n",
       "</style>\n",
       "<table border=\"1\" class=\"dataframe\">\n",
       "  <thead>\n",
       "    <tr style=\"text-align: right;\">\n",
       "      <th></th>\n",
       "      <th>user_id</th>\n",
       "      <th>group</th>\n",
       "      <th>ab_test</th>\n",
       "    </tr>\n",
       "  </thead>\n",
       "  <tbody>\n",
       "    <tr>\n",
       "      <th>0</th>\n",
       "      <td>D1ABA3E2887B6A73</td>\n",
       "      <td>A</td>\n",
       "      <td>recommender_system_test</td>\n",
       "    </tr>\n",
       "    <tr>\n",
       "      <th>1</th>\n",
       "      <td>A7A3664BD6242119</td>\n",
       "      <td>A</td>\n",
       "      <td>recommender_system_test</td>\n",
       "    </tr>\n",
       "    <tr>\n",
       "      <th>2</th>\n",
       "      <td>DABC14FDDFADD29E</td>\n",
       "      <td>A</td>\n",
       "      <td>recommender_system_test</td>\n",
       "    </tr>\n",
       "    <tr>\n",
       "      <th>3</th>\n",
       "      <td>04988C5DF189632E</td>\n",
       "      <td>A</td>\n",
       "      <td>recommender_system_test</td>\n",
       "    </tr>\n",
       "    <tr>\n",
       "      <th>4</th>\n",
       "      <td>482F14783456D21B</td>\n",
       "      <td>B</td>\n",
       "      <td>recommender_system_test</td>\n",
       "    </tr>\n",
       "  </tbody>\n",
       "</table>\n",
       "</div>"
      ],
      "text/plain": [
       "            user_id group                  ab_test\n",
       "0  D1ABA3E2887B6A73     A  recommender_system_test\n",
       "1  A7A3664BD6242119     A  recommender_system_test\n",
       "2  DABC14FDDFADD29E     A  recommender_system_test\n",
       "3  04988C5DF189632E     A  recommender_system_test\n",
       "4  482F14783456D21B     B  recommender_system_test"
      ]
     },
     "metadata": {},
     "output_type": "display_data"
    },
    {
     "name": "stdout",
     "output_type": "stream",
     "text": [
      "**************************************************\n",
      "<class 'pandas.core.frame.DataFrame'>\n",
      "RangeIndex: 18268 entries, 0 to 18267\n",
      "Data columns (total 3 columns):\n",
      " #   Column   Non-Null Count  Dtype \n",
      "---  ------   --------------  ----- \n",
      " 0   user_id  18268 non-null  object\n",
      " 1   group    18268 non-null  object\n",
      " 2   ab_test  18268 non-null  object\n",
      "dtypes: object(3)\n",
      "memory usage: 428.3+ KB\n",
      "**************************************************\n",
      "Доля пропусков: \n",
      "user_id    0.0\n",
      "group      0.0\n",
      "ab_test    0.0\n",
      "dtype: float64\n",
      "**************************************************\n",
      "Полных дубликатов:  0\n",
      "**************************************************\n",
      "Исходный дф содержит: 18268 строк\n",
      "**************************************************\n"
     ]
    }
   ],
   "source": [
    "data_preprocessing(table)"
   ]
  },
  {
   "cell_type": "markdown",
   "id": "bc269e63",
   "metadata": {},
   "source": [
    "- Наименования столбцов корректны и понятны.\n",
    "- По типам данных все соответствует.\n",
    "- Пропусков нет.\n",
    "- Дубликатов нет.\n",
    "- Исходный дф содержит: 18268 строк."
   ]
  },
  {
   "cell_type": "markdown",
   "id": "04677c24",
   "metadata": {},
   "source": [
    "### Техническое задание\n",
    "Выполним проверку на соответствие техническому заданию:\n",
    "1) Название теста: recommender_system_test ;\n",
    "2) группы: А — контрольная, B — новая платёжная воронка;\n",
    "3) дата запуска: 2020-12-07;\n",
    "4) дата остановки набора новых пользователей: 2020-12-21;\n",
    "5) дата остановки: 2021-01-04;\n",
    "6) аудитория: в тест должно быть отобрано 15% новых пользователей из региона EU;\n",
    "7) ожидаемое количество участников теста: 6000.\n",
    "8) ожидаемый эффект: за 14 дней с момента регистрации пользователи покажут улучшение каждой метрики не менее, чем на 10%:\n",
    "- конверсии в просмотр карточек товаров — событие product_page ,\n",
    "- просмотры корзины — product_cart ,\n",
    "- покупки — purchase ."
   ]
  },
  {
   "cell_type": "markdown",
   "id": "adce0ea1",
   "metadata": {},
   "source": [
    "#### проверяем название теста:"
   ]
  },
  {
   "cell_type": "markdown",
   "id": "ae0115ac",
   "metadata": {},
   "source": [
    "Здесь и далее мы будем несколько раз использовать z-тест, напишем для него функцию."
   ]
  },
  {
   "cell_type": "code",
   "execution_count": 16,
   "id": "b69c1c6d",
   "metadata": {},
   "outputs": [],
   "source": [
    "def make_ztest(sample_A, sample_B, total_1, total_2, alpha=0.05):\n",
    "    alpha = alpha\n",
    "\n",
    "    stat, p_value = ztest([sample_A, sample_B], [total_1, total_2])\n",
    "\n",
    "    print('p-value:', p_value)\n",
    "\n",
    "    if p_value < alpha:\n",
    "        print(\"Различия между группами статистически значимы.\")\n",
    "    else:\n",
    "        print(\"Нет статистически значимых различий между группами.\")"
   ]
  },
  {
   "cell_type": "code",
   "execution_count": 17,
   "id": "5e740d2a",
   "metadata": {},
   "outputs": [
    {
     "data": {
      "text/plain": [
       "interface_eu_test          11567\n",
       "recommender_system_test     6701\n",
       "Name: ab_test, dtype: int64"
      ]
     },
     "execution_count": 17,
     "metadata": {},
     "output_type": "execute_result"
    }
   ],
   "source": [
    "table.ab_test.value_counts()"
   ]
  },
  {
   "cell_type": "code",
   "execution_count": 18,
   "id": "788814ac",
   "metadata": {},
   "outputs": [
    {
     "data": {
      "text/plain": [
       "1602"
      ]
     },
     "execution_count": 18,
     "metadata": {},
     "output_type": "execute_result"
    }
   ],
   "source": [
    "table.duplicated(subset=['user_id']).sum()"
   ]
  },
  {
   "cell_type": "code",
   "execution_count": 19,
   "id": "d7b9d176",
   "metadata": {},
   "outputs": [
    {
     "data": {
      "text/plain": [
       "1602"
      ]
     },
     "execution_count": 19,
     "metadata": {},
     "output_type": "execute_result"
    }
   ],
   "source": [
    "two_tests = table.groupby(['user_id']).agg({'ab_test' : 'nunique'}).query('ab_test == 2')\n",
    "two_tests.shape[0]"
   ]
  },
  {
   "cell_type": "markdown",
   "id": "e2762e48",
   "metadata": {},
   "source": [
    "В данных представлены два теста. И 1602 пользователя участвуют одновременно в обоих тестах."
   ]
  },
  {
   "cell_type": "code",
   "execution_count": 20,
   "id": "7277426e",
   "metadata": {},
   "outputs": [
    {
     "data": {
      "text/plain": [
       "A    921\n",
       "B    681\n",
       "Name: group, dtype: int64"
      ]
     },
     "execution_count": 20,
     "metadata": {},
     "output_type": "execute_result"
    }
   ],
   "source": [
    "table.query('(user_id in @two_tests.index)&(ab_test == \"recommender_system_test\")')['group'].value_counts()"
   ]
  },
  {
   "cell_type": "code",
   "execution_count": 21,
   "id": "ae30557a",
   "metadata": {},
   "outputs": [
    {
     "data": {
      "text/plain": [
       "A    3824\n",
       "B    2877\n",
       "Name: group, dtype: int64"
      ]
     },
     "execution_count": 21,
     "metadata": {},
     "output_type": "execute_result"
    }
   ],
   "source": [
    "table.query('(ab_test == \"recommender_system_test\")')['group'].value_counts()"
   ]
  },
  {
   "cell_type": "markdown",
   "id": "3fbd5aac",
   "metadata": {},
   "source": [
    "АВ группы с пользователями, участвующими в двух тестах, пропорциональны АВ группам для \"recommender_system_test\". Проверим, распределение z-тестом."
   ]
  },
  {
   "cell_type": "code",
   "execution_count": 22,
   "id": "38883d2b",
   "metadata": {},
   "outputs": [
    {
     "name": "stdout",
     "output_type": "stream",
     "text": [
      "p-value: 0.6939301135009054\n",
      "Нет статистически значимых различий между группами.\n"
     ]
    }
   ],
   "source": [
    "sample_A = table.query('(user_id in @two_tests.index)&(ab_test == \"recommender_system_test\")&(group == \"A\")')['group'].shape[0]\n",
    "sample_B = table.query('(user_id in @two_tests.index)&(ab_test == \"recommender_system_test\")&(group == \"B\")')['group'].shape[0]\n",
    "total_1 = table.query('(ab_test == \"recommender_system_test\")&(group == \"A\")')['group'].shape[0]\n",
    "total_2 = table.query('(ab_test == \"recommender_system_test\")&(group == \"B\")')['group'].shape[0]\n",
    "\n",
    "make_ztest(sample_A, sample_B, total_1, total_2)"
   ]
  },
  {
   "cell_type": "markdown",
   "id": "ec800e55",
   "metadata": {},
   "source": [
    "Распределение участвующих в двух тестах пользователей на группы для нашего АВ-теста не выявило статистически значимых различий. Это значит, что можем не удалять этих пользователей из анализа.\n",
    "\n",
    "Только отфильтруем интересующий нас тест \"recommender_system_test\"."
   ]
  },
  {
   "cell_type": "code",
   "execution_count": 23,
   "id": "073fa480",
   "metadata": {},
   "outputs": [],
   "source": [
    "table_filter = table.query('ab_test == \"recommender_system_test\"')"
   ]
  },
  {
   "cell_type": "code",
   "execution_count": 24,
   "id": "035e0556",
   "metadata": {},
   "outputs": [
    {
     "data": {
      "text/plain": [
       "0"
      ]
     },
     "execution_count": 24,
     "metadata": {},
     "output_type": "execute_result"
    }
   ],
   "source": [
    "table_filter.duplicated(subset=['user_id']).sum()"
   ]
  },
  {
   "cell_type": "code",
   "execution_count": 25,
   "id": "11579a78",
   "metadata": {
    "scrolled": true
   },
   "outputs": [
    {
     "name": "stdout",
     "output_type": "stream",
     "text": [
      "Всего в тесте 6701 пользователей\n",
      "Пересекающихся с другим тестом 1602 человека\n",
      "Это 24% от общего числа пользователей\n"
     ]
    }
   ],
   "source": [
    "print(f'Всего в тесте {table_filter.shape[0]} пользователей')\n",
    "print(f'Пересекающихся с другим тестом {two_tests.shape[0]} человека')\n",
    "print(f'Это {(two_tests.shape[0]/table_filter.shape[0]):.0%} от общего числа пользователей')"
   ]
  },
  {
   "cell_type": "markdown",
   "id": "9ce9aea0",
   "metadata": {},
   "source": [
    "Проверим, в какие именно группы теста `interface_eu_test` попали пользователи теста `recommender_system_test`. Ведь если они попали только в контрольную группу - это значит, что тест `interface_eu_test` никак на них не повлиял."
   ]
  },
  {
   "cell_type": "code",
   "execution_count": 26,
   "id": "4c9c2a12",
   "metadata": {},
   "outputs": [
    {
     "data": {
      "text/plain": [
       "A    819\n",
       "B    783\n",
       "Name: group, dtype: int64"
      ]
     },
     "execution_count": 26,
     "metadata": {},
     "output_type": "execute_result"
    }
   ],
   "source": [
    "table.query('(user_id in @two_tests.index)&(ab_test != \"recommender_system_test\")')['group'].value_counts()"
   ]
  },
  {
   "cell_type": "markdown",
   "id": "e06e2bbe",
   "metadata": {},
   "source": [
    "Пользователи, участвующие в двух тестах одновременно, есть в обеих группах обоих тестов. Значит, мы не можем исключить влияние конкурирующего теста на поведение пользователей. Однако, т.к. распределение их равномерно, удалять из анализа их не будем."
   ]
  },
  {
   "cell_type": "markdown",
   "id": "81f1d6e0",
   "metadata": {},
   "source": [
    "#### корректность разделения на группы: А — контрольная, B — новая платёжная воронка"
   ]
  },
  {
   "cell_type": "code",
   "execution_count": 27,
   "id": "b4c4edba",
   "metadata": {},
   "outputs": [
    {
     "data": {
      "text/html": [
       "<div>\n",
       "<style scoped>\n",
       "    .dataframe tbody tr th:only-of-type {\n",
       "        vertical-align: middle;\n",
       "    }\n",
       "\n",
       "    .dataframe tbody tr th {\n",
       "        vertical-align: top;\n",
       "    }\n",
       "\n",
       "    .dataframe thead th {\n",
       "        text-align: right;\n",
       "    }\n",
       "</style>\n",
       "<table border=\"1\" class=\"dataframe\">\n",
       "  <thead>\n",
       "    <tr style=\"text-align: right;\">\n",
       "      <th></th>\n",
       "      <th>group</th>\n",
       "    </tr>\n",
       "    <tr>\n",
       "      <th>user_id</th>\n",
       "      <th></th>\n",
       "    </tr>\n",
       "  </thead>\n",
       "  <tbody>\n",
       "  </tbody>\n",
       "</table>\n",
       "</div>"
      ],
      "text/plain": [
       "Empty DataFrame\n",
       "Columns: [group]\n",
       "Index: []"
      ]
     },
     "execution_count": 27,
     "metadata": {},
     "output_type": "execute_result"
    }
   ],
   "source": [
    "table_filter.groupby(['user_id']).agg({'group' : 'nunique'}).query('group == 2')"
   ]
  },
  {
   "cell_type": "markdown",
   "id": "e7864af6",
   "metadata": {},
   "source": [
    "Пользователи не пересекаются в группах."
   ]
  },
  {
   "cell_type": "code",
   "execution_count": 28,
   "id": "0119541a",
   "metadata": {},
   "outputs": [
    {
     "data": {
      "text/plain": [
       "A    3824\n",
       "B    2877\n",
       "Name: group, dtype: int64"
      ]
     },
     "execution_count": 28,
     "metadata": {},
     "output_type": "execute_result"
    }
   ],
   "source": [
    "table_filter.group.value_counts()"
   ]
  },
  {
   "cell_type": "markdown",
   "id": "017773dc",
   "metadata": {},
   "source": [
    "Выборки достаточно большие. Проверим корректность распределения по тестовым группам с помощью z-теста."
   ]
  },
  {
   "cell_type": "code",
   "execution_count": 29,
   "id": "0574b84a",
   "metadata": {},
   "outputs": [
    {
     "name": "stdout",
     "output_type": "stream",
     "text": [
      "p-value: 3.664277577034438e-60\n",
      "Различия между группами статистически значимы.\n"
     ]
    }
   ],
   "source": [
    "sample_A = table_filter.query('group == \"A\"')['user_id'].shape[0]\n",
    "sample_B = table_filter.query('group == \"B\"')['user_id'].shape[0]\n",
    "total = table_filter.shape[0]\n",
    "\n",
    "make_ztest(sample_A, sample_B, total, total)"
   ]
  },
  {
   "cell_type": "markdown",
   "id": "7cc34c1f",
   "metadata": {},
   "source": [
    "P-value очень маленькое, различия между группами статистически значимы, значит, можем считать разделение по тестовым группам корректным."
   ]
  },
  {
   "cell_type": "markdown",
   "id": "9ea5d3f9",
   "metadata": {},
   "source": [
    "#### аудитория\n",
    "Считаю, что аудитороию следует проверить до дат. В тест должно быть отобрано 15% новых пользователей из региона EU.\n",
    "\n",
    "Для этого объединим наш table_filter с users, чтобы понять принадлежность пользователей к регионам."
   ]
  },
  {
   "cell_type": "code",
   "execution_count": 30,
   "id": "33477b1d",
   "metadata": {},
   "outputs": [
    {
     "data": {
      "text/html": [
       "<div>\n",
       "<style scoped>\n",
       "    .dataframe tbody tr th:only-of-type {\n",
       "        vertical-align: middle;\n",
       "    }\n",
       "\n",
       "    .dataframe tbody tr th {\n",
       "        vertical-align: top;\n",
       "    }\n",
       "\n",
       "    .dataframe thead th {\n",
       "        text-align: right;\n",
       "    }\n",
       "</style>\n",
       "<table border=\"1\" class=\"dataframe\">\n",
       "  <thead>\n",
       "    <tr style=\"text-align: right;\">\n",
       "      <th></th>\n",
       "      <th>user_id</th>\n",
       "      <th>group</th>\n",
       "      <th>ab_test</th>\n",
       "      <th>region</th>\n",
       "    </tr>\n",
       "  </thead>\n",
       "  <tbody>\n",
       "    <tr>\n",
       "      <th>0</th>\n",
       "      <td>D1ABA3E2887B6A73</td>\n",
       "      <td>A</td>\n",
       "      <td>recommender_system_test</td>\n",
       "      <td>EU</td>\n",
       "    </tr>\n",
       "    <tr>\n",
       "      <th>1</th>\n",
       "      <td>A7A3664BD6242119</td>\n",
       "      <td>A</td>\n",
       "      <td>recommender_system_test</td>\n",
       "      <td>EU</td>\n",
       "    </tr>\n",
       "    <tr>\n",
       "      <th>2</th>\n",
       "      <td>DABC14FDDFADD29E</td>\n",
       "      <td>A</td>\n",
       "      <td>recommender_system_test</td>\n",
       "      <td>EU</td>\n",
       "    </tr>\n",
       "    <tr>\n",
       "      <th>3</th>\n",
       "      <td>04988C5DF189632E</td>\n",
       "      <td>A</td>\n",
       "      <td>recommender_system_test</td>\n",
       "      <td>EU</td>\n",
       "    </tr>\n",
       "    <tr>\n",
       "      <th>4</th>\n",
       "      <td>482F14783456D21B</td>\n",
       "      <td>B</td>\n",
       "      <td>recommender_system_test</td>\n",
       "      <td>EU</td>\n",
       "    </tr>\n",
       "    <tr>\n",
       "      <th>...</th>\n",
       "      <td>...</td>\n",
       "      <td>...</td>\n",
       "      <td>...</td>\n",
       "      <td>...</td>\n",
       "    </tr>\n",
       "    <tr>\n",
       "      <th>6696</th>\n",
       "      <td>053FB26D6D49EDDC</td>\n",
       "      <td>A</td>\n",
       "      <td>recommender_system_test</td>\n",
       "      <td>N.America</td>\n",
       "    </tr>\n",
       "    <tr>\n",
       "      <th>6697</th>\n",
       "      <td>9D263B8EF15CF188</td>\n",
       "      <td>B</td>\n",
       "      <td>recommender_system_test</td>\n",
       "      <td>N.America</td>\n",
       "    </tr>\n",
       "    <tr>\n",
       "      <th>6698</th>\n",
       "      <td>F2FBBA33F37DEC46</td>\n",
       "      <td>A</td>\n",
       "      <td>recommender_system_test</td>\n",
       "      <td>APAC</td>\n",
       "    </tr>\n",
       "    <tr>\n",
       "      <th>6699</th>\n",
       "      <td>29C92313A98B1176</td>\n",
       "      <td>B</td>\n",
       "      <td>recommender_system_test</td>\n",
       "      <td>APAC</td>\n",
       "    </tr>\n",
       "    <tr>\n",
       "      <th>6700</th>\n",
       "      <td>6715343AFBA285AE</td>\n",
       "      <td>B</td>\n",
       "      <td>recommender_system_test</td>\n",
       "      <td>CIS</td>\n",
       "    </tr>\n",
       "  </tbody>\n",
       "</table>\n",
       "<p>6701 rows × 4 columns</p>\n",
       "</div>"
      ],
      "text/plain": [
       "               user_id group                  ab_test     region\n",
       "0     D1ABA3E2887B6A73     A  recommender_system_test         EU\n",
       "1     A7A3664BD6242119     A  recommender_system_test         EU\n",
       "2     DABC14FDDFADD29E     A  recommender_system_test         EU\n",
       "3     04988C5DF189632E     A  recommender_system_test         EU\n",
       "4     482F14783456D21B     B  recommender_system_test         EU\n",
       "...                ...   ...                      ...        ...\n",
       "6696  053FB26D6D49EDDC     A  recommender_system_test  N.America\n",
       "6697  9D263B8EF15CF188     B  recommender_system_test  N.America\n",
       "6698  F2FBBA33F37DEC46     A  recommender_system_test       APAC\n",
       "6699  29C92313A98B1176     B  recommender_system_test       APAC\n",
       "6700  6715343AFBA285AE     B  recommender_system_test        CIS\n",
       "\n",
       "[6701 rows x 4 columns]"
      ]
     },
     "execution_count": 30,
     "metadata": {},
     "output_type": "execute_result"
    }
   ],
   "source": [
    "users_eu = table_filter.merge(users[['user_id', 'region']], on='user_id', how='left')\n",
    "users_eu"
   ]
  },
  {
   "cell_type": "code",
   "execution_count": 31,
   "id": "799390cd",
   "metadata": {},
   "outputs": [
    {
     "data": {
      "text/plain": [
       "0.15"
      ]
     },
     "execution_count": 31,
     "metadata": {},
     "output_type": "execute_result"
    }
   ],
   "source": [
    "users_eu.query(\"region == 'EU'\").shape[0]/users.query(\"region == 'EU'\").shape[0]"
   ]
  },
  {
   "cell_type": "markdown",
   "id": "09d2db5d",
   "metadata": {},
   "source": [
    "Ровно 15%, в соответствии с ТЗ."
   ]
  },
  {
   "cell_type": "code",
   "execution_count": 32,
   "id": "4ded17b4",
   "metadata": {},
   "outputs": [
    {
     "data": {
      "text/plain": [
       "350"
      ]
     },
     "execution_count": 32,
     "metadata": {},
     "output_type": "execute_result"
    }
   ],
   "source": [
    "users_eu.query(\"region != 'EU'\").user_id.nunique()"
   ]
  },
  {
   "cell_type": "markdown",
   "id": "c1e6c62d",
   "metadata": {},
   "source": [
    "350 пользователей принадлежат к другим регионам."
   ]
  },
  {
   "cell_type": "markdown",
   "id": "ae151039",
   "metadata": {},
   "source": [
    "Т.к. по ТЗ пользователи должны быть в тесте только из EU и количество их мало, удалим этих пользователей."
   ]
  },
  {
   "cell_type": "code",
   "execution_count": 33,
   "id": "b2cc16b7",
   "metadata": {},
   "outputs": [
    {
     "data": {
      "text/plain": [
       "6351"
      ]
     },
     "execution_count": 33,
     "metadata": {},
     "output_type": "execute_result"
    }
   ],
   "source": [
    "table_filter = users_eu.query(\"region == 'EU'\")\n",
    "table_filter.shape[0]"
   ]
  },
  {
   "cell_type": "markdown",
   "id": "edf61d61",
   "metadata": {},
   "source": [
    "Можем повтороить проверку на корректность распределения пользователей:"
   ]
  },
  {
   "cell_type": "code",
   "execution_count": 34,
   "id": "817c1e7e",
   "metadata": {},
   "outputs": [
    {
     "name": "stdout",
     "output_type": "stream",
     "text": [
      "p-value: 1.5386058814776924e-59\n",
      "Различия между группами статистически значимы.\n"
     ]
    }
   ],
   "source": [
    "sample_A = table_filter.query('group == \"A\"')['user_id'].shape[0]\n",
    "sample_B = table_filter.query('group == \"B\"')['user_id'].shape[0]\n",
    "total = table_filter.shape[0]\n",
    "\n",
    "make_ztest(sample_A, sample_B, total, total)"
   ]
  },
  {
   "cell_type": "markdown",
   "id": "cb64b0bf",
   "metadata": {},
   "source": [
    "- Различия по-прежнему статистически значимы.\n",
    "- Остался 6351 пользователь."
   ]
  },
  {
   "cell_type": "markdown",
   "id": "a3f7a976",
   "metadata": {},
   "source": [
    "#### даты\n",
    "3) дата запуска: 2020-12-07;\n",
    "4) дата остановки набора новых пользователей: 2020-12-21;\n",
    "5) дата остановки: 2021-01-04.\n",
    "\n",
    "- Даты запуска и остановки мы сверяли на этапе предобработки и помним, что вместо 2021-01-04 последняя дата 2020-12-30.\n",
    "- Пункт 4 сверим со списком пользователей в users, оставшихся после фильтрации по дате в предобработке."
   ]
  },
  {
   "cell_type": "code",
   "execution_count": 35,
   "id": "50dbef44",
   "metadata": {},
   "outputs": [
    {
     "name": "stdout",
     "output_type": "stream",
     "text": [
      "Число пользователей до сверки дат 6351\n",
      "Число пользователей после сверки дат 6351\n"
     ]
    }
   ],
   "source": [
    "date_test = table_filter.query(\"user_id in @users['user_id']\")\n",
    "\n",
    "print(f'Число пользователей до сверки дат {table_filter.shape[0]}')\n",
    "print(f'Число пользователей после сверки дат {date_test.shape[0]}')"
   ]
  },
  {
   "cell_type": "markdown",
   "id": "fc97cb38",
   "metadata": {},
   "source": [
    "Все участники зарегистрировались в период по 21.12.2020."
   ]
  },
  {
   "cell_type": "markdown",
   "id": "fa4640de",
   "metadata": {},
   "source": [
    "Если вспомним про то, что последнее действие в events зафиксировано от 30 декабря 2020г, а не от 04 января 2023, что требует оставить только пользователей, зарегистрировавшиеся не по 21 декабря, а по 16 декабря 2020г, то получим:"
   ]
  },
  {
   "cell_type": "code",
   "execution_count": 36,
   "id": "fa86953e",
   "metadata": {
    "scrolled": true
   },
   "outputs": [
    {
     "name": "stdout",
     "output_type": "stream",
     "text": [
      "Число пользователей до сверки дат 6351\n",
      "Число пользователей после сверки дат 4086\n"
     ]
    }
   ],
   "source": [
    "users_2 = users.query('first_date <= \"2020-12-16\"')\n",
    "date_test = table_filter.query(\"user_id in @users_2['user_id']\")\n",
    "\n",
    "print(f'Число пользователей до сверки дат {table_filter.shape[0]}')\n",
    "print(f'Число пользователей после сверки дат {date_test.shape[0]}')"
   ]
  },
  {
   "cell_type": "markdown",
   "id": "f29e151a",
   "metadata": {},
   "source": [
    "Если соблюсти условие по 14-дневной активности пользователей (исходя из последней даты в дф events), то в тесте останется всего 4314 пользователей, что в 1.5 раза сокращает необходимую выборку. Поэтому оставим в соответствии с ТЗ по 21.12."
   ]
  },
  {
   "cell_type": "markdown",
   "id": "e603a967",
   "metadata": {},
   "source": [
    "Проверим даты запуска и остановки после объединения дф.\n",
    "\n",
    "Логично, что обединение должно быть с параметром `how='inner'`"
   ]
  },
  {
   "cell_type": "code",
   "execution_count": 37,
   "id": "1488af6a",
   "metadata": {
    "scrolled": false
   },
   "outputs": [
    {
     "data": {
      "text/plain": [
       "3481"
      ]
     },
     "execution_count": 37,
     "metadata": {},
     "output_type": "execute_result"
    }
   ],
   "source": [
    "df_inner = events.merge(table_filter[['user_id', 'group']], on='user_id', how='inner')\n",
    "# проверим количество пользователей\n",
    "df_inner.user_id.nunique()"
   ]
  },
  {
   "cell_type": "markdown",
   "id": "e04ffe61",
   "metadata": {},
   "source": [
    "Остались всего 3481 пользователь. Объединим другим способом, чтобы сохранить всех пользователей."
   ]
  },
  {
   "cell_type": "code",
   "execution_count": 38,
   "id": "519675c1",
   "metadata": {},
   "outputs": [
    {
     "data": {
      "text/plain": [
       "6351"
      ]
     },
     "execution_count": 38,
     "metadata": {},
     "output_type": "execute_result"
    }
   ],
   "source": [
    "df_all_us = events.merge(table_filter[['user_id', 'group']], on='user_id', how='right')\n",
    "# проверим количество пользователей\n",
    "df_all_us.user_id.nunique()"
   ]
  },
  {
   "cell_type": "markdown",
   "id": "2603dbad",
   "metadata": {},
   "source": [
    "Пользователи на месте, проверим события."
   ]
  },
  {
   "cell_type": "code",
   "execution_count": 39,
   "id": "298fec6d",
   "metadata": {},
   "outputs": [
    {
     "data": {
      "text/plain": [
       "login           10595\n",
       "product_page     6554\n",
       "purchase         3196\n",
       "product_cart     3075\n",
       "NaN              2870\n",
       "Name: event_name, dtype: int64"
      ]
     },
     "execution_count": 39,
     "metadata": {},
     "output_type": "execute_result"
    }
   ],
   "source": [
    "df_all_us.event_name.value_counts(dropna=False)"
   ]
  },
  {
   "cell_type": "code",
   "execution_count": 40,
   "id": "7e8a152e",
   "metadata": {},
   "outputs": [
    {
     "data": {
      "text/plain": [
       "2870"
      ]
     },
     "execution_count": 40,
     "metadata": {},
     "output_type": "execute_result"
    }
   ],
   "source": [
    "df_all_us.query('event_name.isna()').user_id.nunique()"
   ]
  },
  {
   "cell_type": "code",
   "execution_count": 41,
   "id": "70685c80",
   "metadata": {},
   "outputs": [
    {
     "data": {
      "text/plain": [
       "0.5801666666666667"
      ]
     },
     "execution_count": 41,
     "metadata": {},
     "output_type": "execute_result"
    }
   ],
   "source": [
    "(df_all_us.user_id.nunique() - df_all_us.query('event_name.isna()').user_id.nunique())/6000"
   ]
  },
  {
   "cell_type": "code",
   "execution_count": 42,
   "id": "68108bf5",
   "metadata": {},
   "outputs": [
    {
     "data": {
      "text/plain": [
       "A    2604\n",
       "B     877\n",
       "Name: group, dtype: int64"
      ]
     },
     "execution_count": 42,
     "metadata": {},
     "output_type": "execute_result"
    }
   ],
   "source": [
    "df_inner.groupby('user_id').agg({'group':'first'}).group.value_counts()"
   ]
  },
  {
   "cell_type": "markdown",
   "id": "aec681fd",
   "metadata": {},
   "source": [
    "- 2870 пользователей не совершили ни одного действия.\n",
    "- Оставшиеся 3481 пользователь составляют всего 58% от объема желаемой выборки.\n",
    "- Раделение на группы теста стало не равномерным (A 2604, B 877).\n",
    "- Однако оставлять бездействующих пользователей в анализе бессмысленно, т.к. они не влияют на конверсию событий.\n",
    "\n",
    "Отметим это как еще одно несоответствие ТЗ. И будем анализировать действия 3481 пользователя."
   ]
  },
  {
   "cell_type": "code",
   "execution_count": 43,
   "id": "22d841ce",
   "metadata": {},
   "outputs": [
    {
     "name": "stdout",
     "output_type": "stream",
     "text": [
      "Первая дата действий 2020-12-07 00:05:57\n",
      "Последняя дата действий 2020-12-30 12:42:57\n"
     ]
    }
   ],
   "source": [
    "# сократим название основного дф для анализа\n",
    "df = df_inner.copy()\n",
    "\n",
    "# проверим даты событий\n",
    "print(f'Первая дата действий {df.event_dt.min()}')\n",
    "print(f'Последняя дата действий {df.event_dt.max()}')"
   ]
  },
  {
   "cell_type": "markdown",
   "id": "ebd6f3d5",
   "metadata": {},
   "source": [
    "Даты после объединения и отсеивания пользователей не изменились, и последняя дата активности не соответствует дате остановки в ТЗ."
   ]
  },
  {
   "cell_type": "markdown",
   "id": "e6630532",
   "metadata": {},
   "source": [
    "#### маркетинговые активности\n",
    "У нас есть файл \"ab_project_marketing_events.csv\" - календарь маркетинговых событий. Проверим пересечение с АВ-тестом."
   ]
  },
  {
   "cell_type": "code",
   "execution_count": 44,
   "id": "60d5b8ae",
   "metadata": {},
   "outputs": [
    {
     "data": {
      "text/html": [
       "<div>\n",
       "<style scoped>\n",
       "    .dataframe tbody tr th:only-of-type {\n",
       "        vertical-align: middle;\n",
       "    }\n",
       "\n",
       "    .dataframe tbody tr th {\n",
       "        vertical-align: top;\n",
       "    }\n",
       "\n",
       "    .dataframe thead th {\n",
       "        text-align: right;\n",
       "    }\n",
       "</style>\n",
       "<table border=\"1\" class=\"dataframe\">\n",
       "  <thead>\n",
       "    <tr style=\"text-align: right;\">\n",
       "      <th></th>\n",
       "      <th>name</th>\n",
       "      <th>regions</th>\n",
       "      <th>start_dt</th>\n",
       "      <th>finish_dt</th>\n",
       "    </tr>\n",
       "  </thead>\n",
       "  <tbody>\n",
       "    <tr>\n",
       "      <th>0</th>\n",
       "      <td>Christmas&amp;New Year Promo</td>\n",
       "      <td>EU, N.America</td>\n",
       "      <td>2020-12-25</td>\n",
       "      <td>2021-01-03</td>\n",
       "    </tr>\n",
       "    <tr>\n",
       "      <th>10</th>\n",
       "      <td>CIS New Year Gift Lottery</td>\n",
       "      <td>CIS</td>\n",
       "      <td>2020-12-30</td>\n",
       "      <td>2021-01-07</td>\n",
       "    </tr>\n",
       "  </tbody>\n",
       "</table>\n",
       "</div>"
      ],
      "text/plain": [
       "                         name        regions   start_dt  finish_dt\n",
       "0    Christmas&New Year Promo  EU, N.America 2020-12-25 2021-01-03\n",
       "10  CIS New Year Gift Lottery            CIS 2020-12-30 2021-01-07"
      ]
     },
     "execution_count": 44,
     "metadata": {},
     "output_type": "execute_result"
    }
   ],
   "source": [
    "marketing.query('start_dt.between(\"2020-12-07\", \"2021-01-04\")|finish_dt.between(\"2020-12-07\", \"2021-01-04\")')"
   ]
  },
  {
   "cell_type": "markdown",
   "id": "e0df352f",
   "metadata": {},
   "source": [
    "- По датам 2 совпадения, но т.к. в нашем тесте аудитория из EU, нас интересует только первое мероприятие.\n",
    "- Даты акции полностью попадают в период проведения теста.\n",
    "- Необходимо проверить активность пользователей в эти дни. Для этого извлечем дату без уточнения времени действия из поля `event_dt` и построим график распределения"
   ]
  },
  {
   "cell_type": "code",
   "execution_count": 45,
   "id": "9f1ae27f",
   "metadata": {},
   "outputs": [
    {
     "data": {
      "text/html": [
       "<div>\n",
       "<style scoped>\n",
       "    .dataframe tbody tr th:only-of-type {\n",
       "        vertical-align: middle;\n",
       "    }\n",
       "\n",
       "    .dataframe tbody tr th {\n",
       "        vertical-align: top;\n",
       "    }\n",
       "\n",
       "    .dataframe thead th {\n",
       "        text-align: right;\n",
       "    }\n",
       "</style>\n",
       "<table border=\"1\" class=\"dataframe\">\n",
       "  <thead>\n",
       "    <tr style=\"text-align: right;\">\n",
       "      <th></th>\n",
       "      <th>user_id</th>\n",
       "      <th>event_dt</th>\n",
       "      <th>date</th>\n",
       "      <th>event_name</th>\n",
       "      <th>details</th>\n",
       "      <th>group</th>\n",
       "    </tr>\n",
       "  </thead>\n",
       "  <tbody>\n",
       "    <tr>\n",
       "      <th>0</th>\n",
       "      <td>831887FE7F2D6CBA</td>\n",
       "      <td>2020-12-07 06:50:29</td>\n",
       "      <td>2020-12-07</td>\n",
       "      <td>purchase</td>\n",
       "      <td>4.99</td>\n",
       "      <td>A</td>\n",
       "    </tr>\n",
       "    <tr>\n",
       "      <th>1</th>\n",
       "      <td>831887FE7F2D6CBA</td>\n",
       "      <td>2020-12-09 02:19:17</td>\n",
       "      <td>2020-12-09</td>\n",
       "      <td>purchase</td>\n",
       "      <td>99.99</td>\n",
       "      <td>A</td>\n",
       "    </tr>\n",
       "    <tr>\n",
       "      <th>2</th>\n",
       "      <td>831887FE7F2D6CBA</td>\n",
       "      <td>2020-12-07 06:50:30</td>\n",
       "      <td>2020-12-07</td>\n",
       "      <td>product_cart</td>\n",
       "      <td>NaN</td>\n",
       "      <td>A</td>\n",
       "    </tr>\n",
       "    <tr>\n",
       "      <th>3</th>\n",
       "      <td>831887FE7F2D6CBA</td>\n",
       "      <td>2020-12-08 10:52:27</td>\n",
       "      <td>2020-12-08</td>\n",
       "      <td>product_cart</td>\n",
       "      <td>NaN</td>\n",
       "      <td>A</td>\n",
       "    </tr>\n",
       "    <tr>\n",
       "      <th>4</th>\n",
       "      <td>831887FE7F2D6CBA</td>\n",
       "      <td>2020-12-09 02:19:17</td>\n",
       "      <td>2020-12-09</td>\n",
       "      <td>product_cart</td>\n",
       "      <td>NaN</td>\n",
       "      <td>A</td>\n",
       "    </tr>\n",
       "  </tbody>\n",
       "</table>\n",
       "</div>"
      ],
      "text/plain": [
       "            user_id            event_dt        date    event_name  details  \\\n",
       "0  831887FE7F2D6CBA 2020-12-07 06:50:29  2020-12-07      purchase     4.99   \n",
       "1  831887FE7F2D6CBA 2020-12-09 02:19:17  2020-12-09      purchase    99.99   \n",
       "2  831887FE7F2D6CBA 2020-12-07 06:50:30  2020-12-07  product_cart      NaN   \n",
       "3  831887FE7F2D6CBA 2020-12-08 10:52:27  2020-12-08  product_cart      NaN   \n",
       "4  831887FE7F2D6CBA 2020-12-09 02:19:17  2020-12-09  product_cart      NaN   \n",
       "\n",
       "  group  \n",
       "0     A  \n",
       "1     A  \n",
       "2     A  \n",
       "3     A  \n",
       "4     A  "
      ]
     },
     "execution_count": 45,
     "metadata": {},
     "output_type": "execute_result"
    }
   ],
   "source": [
    "df.insert(2, 'date', df['event_dt'].dt.date)\n",
    "df.head()"
   ]
  },
  {
   "cell_type": "code",
   "execution_count": 46,
   "id": "eb088760",
   "metadata": {},
   "outputs": [
    {
     "data": {
      "image/png": "[encoded data removed]",
      "text/plain": [
       "<Figure size 640x480 with 1 Axes>"
      ]
     },
     "metadata": {},
     "output_type": "display_data"
    }
   ],
   "source": [
    "# строим гистограмму для столбца date, добавив график кривой KDE\n",
    "sns.histplot(data=df, x='date', kde=True)\n",
    "plt.title('Распределение количества действий по датам')\n",
    "plt.xlabel('Дата')\n",
    "plt.ylabel('Количество действий')\n",
    "plt.xticks(rotation=45)\n",
    "plt.show()"
   ]
  },
  {
   "cell_type": "markdown",
   "id": "7e3c43f7",
   "metadata": {},
   "source": [
    "Итак, в период проведения акции с 25 декабря по 3 января никакой особой активности среди пользователей не наблюдается. Пиковые значения прошли раньше, а с 21 декабря начался спад активности.\n",
    "\n",
    "Так что можем пренебречь этой акцией, не фильтровать данные, но отметим ее наличие, чего быть не должно при проведении АВ-теста."
   ]
  },
  {
   "cell_type": "markdown",
   "id": "1df603e5",
   "metadata": {},
   "source": [
    "#### ожидаемое количество участников теста: 6000"
   ]
  },
  {
   "cell_type": "code",
   "execution_count": 47,
   "id": "55a29d39",
   "metadata": {},
   "outputs": [
    {
     "data": {
      "text/plain": [
       "3481"
      ]
     },
     "execution_count": 47,
     "metadata": {},
     "output_type": "execute_result"
    }
   ],
   "source": [
    "df.user_id.nunique()"
   ]
  },
  {
   "cell_type": "code",
   "execution_count": 48,
   "id": "57688b20",
   "metadata": {},
   "outputs": [
    {
     "data": {
      "text/plain": [
       "0.5801666666666667"
      ]
     },
     "execution_count": 48,
     "metadata": {},
     "output_type": "execute_result"
    }
   ],
   "source": [
    "df.user_id.nunique()/6000"
   ]
  },
  {
   "cell_type": "markdown",
   "id": "42fdd71a",
   "metadata": {},
   "source": [
    "У нас получается 3481 участник, это всего 58% от ожидаемого количества по ТЗ. Однако, как мы писали выше, большего количества нет. Будем анализировать результаты по этим данным."
   ]
  },
  {
   "cell_type": "markdown",
   "id": "69aa5ee1",
   "metadata": {},
   "source": [
    "#### ожидаемый эффект:\n",
    "за 14 дней с момента регистрации пользователи покажут улучшение каждой метрики не менее, чем на 10%:\n",
    "- конверсии в просмотр карточек товаров — событие product_page ,\n",
    "- просмотры корзины — product_cart ,\n",
    "- покупки — purchase ."
   ]
  },
  {
   "cell_type": "markdown",
   "id": "45634148",
   "metadata": {},
   "source": [
    "14 дневный срок с момента регистрации. Это означает, что нам нужно посчитать lifetime событий. Для этого нам нужны даты регистрации пользователей."
   ]
  },
  {
   "cell_type": "code",
   "execution_count": 49,
   "id": "5e75f245",
   "metadata": {},
   "outputs": [],
   "source": [
    "df = df.merge(users[['user_id', 'first_date']], on='user_id', how='left')"
   ]
  },
  {
   "cell_type": "markdown",
   "id": "13bf3beb",
   "metadata": {},
   "source": [
    "Далее создадим столбец с lifetime."
   ]
  },
  {
   "cell_type": "code",
   "execution_count": 50,
   "id": "19283e66",
   "metadata": {},
   "outputs": [],
   "source": [
    "df['lifetime'] = (df['event_dt'] - df['first_date']).dt.days"
   ]
  },
  {
   "cell_type": "code",
   "execution_count": 51,
   "id": "d79b1975",
   "metadata": {},
   "outputs": [
    {
     "data": {
      "text/plain": [
       "23"
      ]
     },
     "execution_count": 51,
     "metadata": {},
     "output_type": "execute_result"
    }
   ],
   "source": [
    "df['lifetime'].max()"
   ]
  },
  {
   "cell_type": "markdown",
   "id": "c77a0182",
   "metadata": {},
   "source": [
    "Есть пользователи, которые совершали действия с момента регистрации и до окончания набора. В то время как по ТЗ мы ожидаем улучшение метрик за 14-дневный срок. Значит сверх 14 дней не должно быть событий. Нумерация lifetime начинается с 0, значит нас интересуют события за 0-13 lifetime."
   ]
  },
  {
   "cell_type": "code",
   "execution_count": 52,
   "id": "88b76251",
   "metadata": {},
   "outputs": [],
   "source": [
    "df = df.query('lifetime.between(0, 13)')"
   ]
  },
  {
   "cell_type": "code",
   "execution_count": 53,
   "id": "97e0be66",
   "metadata": {},
   "outputs": [
    {
     "data": {
      "text/plain": [
       "3481"
      ]
     },
     "execution_count": 53,
     "metadata": {},
     "output_type": "execute_result"
    }
   ],
   "source": [
    "# проверим кол-во пользователей\n",
    "df.user_id.nunique()"
   ]
  },
  {
   "cell_type": "markdown",
   "id": "4b843846",
   "metadata": {},
   "source": [
    "Соответствует последним изменениям."
   ]
  },
  {
   "cell_type": "markdown",
   "id": "f5d1d07c",
   "metadata": {},
   "source": [
    "## Исследовательский анализ\n",
    "Итак, на этапе предобработки мы отсеяли часть данных, которые не соответствовали ТЗ. Теперь ответим на несколько вопросов по самому АВ-тесту:\n",
    "- Количество событий на пользователя одинаково распределены в выборках?\n",
    "- Как число событий в выборках распределено по дням?\n",
    "- Как меняется конверсия в воронке в выборках на разных этапах?\n",
    "- Какие особенности данных нужно учесть, прежде чем приступать к A/B-тестированию?"
   ]
  },
  {
   "cell_type": "markdown",
   "id": "2c967e9b",
   "metadata": {},
   "source": [
    "### Количество событий на пользователя"
   ]
  },
  {
   "cell_type": "markdown",
   "id": "9ee316f1",
   "metadata": {},
   "source": [
    "Для ответа на первый вопрос разделим дф по группам (выборкам) А и В и построим гистограммы распределения количества событий на одном графике."
   ]
  },
  {
   "cell_type": "code",
   "execution_count": 54,
   "id": "5a40d552",
   "metadata": {},
   "outputs": [
    {
     "data": {
      "image/png": "[encoded data removed]",
      "text/plain": [
       "<Figure size 640x480 with 1 Axes>"
      ]
     },
     "metadata": {},
     "output_type": "display_data"
    }
   ],
   "source": [
    "df.query('group == \"A\"').groupby(['user_id'])['event_name'].count().hist(bins=10, alpha=0.5, color='green')\n",
    "df.query('group == \"B\"').groupby(['user_id'])['event_name'].count().hist(bins=10, alpha=0.5, color='blue')\n",
    "plt.title('Распределение количества событий по пользователям в разрезе групп А и В')\n",
    "plt.xlabel('Кол-во событий')\n",
    "plt.ylabel('Количество пользователей')\n",
    "plt.legend(['A', 'B'])\n",
    "plt.show()"
   ]
  },
  {
   "cell_type": "markdown",
   "id": "691fbdd2",
   "metadata": {},
   "source": [
    "- В группе А большинство пользователей совершило порядка 10 событий.\n",
    "- В группе В больше всего пользователей совершило 1-2 события. И активность планомерно снижается.\n",
    "\n",
    "Т.е. интерес в группе В явно ниже, чем в группе А."
   ]
  },
  {
   "cell_type": "code",
   "execution_count": 55,
   "id": "cd2103af",
   "metadata": {},
   "outputs": [
    {
     "data": {
      "text/html": [
       "<div>\n",
       "<style scoped>\n",
       "    .dataframe tbody tr th:only-of-type {\n",
       "        vertical-align: middle;\n",
       "    }\n",
       "\n",
       "    .dataframe tbody tr th {\n",
       "        vertical-align: top;\n",
       "    }\n",
       "\n",
       "    .dataframe thead tr th {\n",
       "        text-align: left;\n",
       "    }\n",
       "\n",
       "    .dataframe thead tr:last-of-type th {\n",
       "        text-align: right;\n",
       "    }\n",
       "</style>\n",
       "<table border=\"1\" class=\"dataframe\">\n",
       "  <thead>\n",
       "    <tr>\n",
       "      <th></th>\n",
       "      <th colspan=\"2\" halign=\"left\">event_count</th>\n",
       "    </tr>\n",
       "    <tr>\n",
       "      <th></th>\n",
       "      <th>mean</th>\n",
       "      <th>median</th>\n",
       "    </tr>\n",
       "    <tr>\n",
       "      <th>group</th>\n",
       "      <th></th>\n",
       "      <th></th>\n",
       "    </tr>\n",
       "  </thead>\n",
       "  <tbody>\n",
       "    <tr>\n",
       "      <th>A</th>\n",
       "      <td>6.849078</td>\n",
       "      <td>6</td>\n",
       "    </tr>\n",
       "    <tr>\n",
       "      <th>B</th>\n",
       "      <td>5.456100</td>\n",
       "      <td>4</td>\n",
       "    </tr>\n",
       "  </tbody>\n",
       "</table>\n",
       "</div>"
      ],
      "text/plain": [
       "      event_count       \n",
       "             mean median\n",
       "group                   \n",
       "A        6.849078      6\n",
       "B        5.456100      4"
      ]
     },
     "execution_count": 55,
     "metadata": {},
     "output_type": "execute_result"
    }
   ],
   "source": [
    "event_count = df.groupby(['group', 'user_id'], as_index=False).agg(event_count=('event_name', 'count'))\n",
    "event_count.groupby('group').agg({'event_count': ['mean', 'median']})"
   ]
  },
  {
   "cell_type": "markdown",
   "id": "175a9889",
   "metadata": {},
   "source": [
    "- Медианное и среднее значения близки друг к другу. Это говорит о равномерности значений. Однако в обеих группах есть пользователи, совершившие больше других действий.\n",
    "- В группе В в среднем на 2 события меньше, чем в группе А. Что так же подтверждает пониженный интерес."
   ]
  },
  {
   "cell_type": "markdown",
   "id": "97f4e83b",
   "metadata": {},
   "source": [
    "Проведем стат тест для сравнения распределения значений."
   ]
  },
  {
   "cell_type": "code",
   "execution_count": 56,
   "id": "ba76b619",
   "metadata": {},
   "outputs": [],
   "source": [
    "stat_test_group = df.groupby(['group', 'user_id'], as_index=False).agg(event_count=('event_name', 'count'))"
   ]
  },
  {
   "cell_type": "code",
   "execution_count": 57,
   "id": "61f098a9",
   "metadata": {},
   "outputs": [],
   "source": [
    "test_A = stat_test_group.query('group == \"A\"')['event_count']\n",
    "test_B = stat_test_group.query('group == \"B\"')['event_count']"
   ]
  },
  {
   "cell_type": "markdown",
   "id": "1bc231a0",
   "metadata": {},
   "source": [
    "Проверим выборки на нормальное распределение для выбора стат теста."
   ]
  },
  {
   "cell_type": "code",
   "execution_count": 58,
   "id": "24c51102",
   "metadata": {},
   "outputs": [
    {
     "name": "stdout",
     "output_type": "stream",
     "text": [
      "Одна или обе выборки не распределены нормально\n"
     ]
    }
   ],
   "source": [
    "stat, p_value_1 = shapiro(test_A)\n",
    "stat, p_value_2 = shapiro(test_B)\n",
    "\n",
    "alpha = .05\n",
    "\n",
    "if p_value_1 > alpha and p_value_2 > alpha:\n",
    "    print('Обе выборки распределены нормально')\n",
    "else:\n",
    "    print('Одна или обе выборки не распределены нормально')"
   ]
  },
  {
   "cell_type": "markdown",
   "id": "d3d38d7e",
   "metadata": {},
   "source": [
    "Для сравнения выборок воспользуемся тестом Манн-Уитни."
   ]
  },
  {
   "cell_type": "code",
   "execution_count": 59,
   "id": "d3d70c88",
   "metadata": {},
   "outputs": [],
   "source": [
    "def for_test_mann_wh(sample1, sample2, alpha=0.05):\n",
    "    \n",
    "    stat, p_value = mannwhitneyu(sample1, sample2, alternative='two-sided')\n",
    "    alpha = alpha\n",
    "\n",
    "    print('p-value:', p_value)\n",
    "\n",
    "    if p_value > alpha:\n",
    "        print('Отвергаем нулевую гипотезу: разница статистически значима')\n",
    "    else:\n",
    "        print('Не получилось отвергнуть нулевую гипотезу, вывод о различии сделать нельзя')"
   ]
  },
  {
   "cell_type": "code",
   "execution_count": 60,
   "id": "14206228",
   "metadata": {},
   "outputs": [
    {
     "name": "stdout",
     "output_type": "stream",
     "text": [
      "p-value: 1.3357547195020132e-23\n",
      "Не получилось отвергнуть нулевую гипотезу, вывод о различии сделать нельзя\n"
     ]
    }
   ],
   "source": [
    "for_test_mann_wh(test_A, test_B)"
   ]
  },
  {
   "cell_type": "markdown",
   "id": "9ae86e61",
   "metadata": {},
   "source": [
    "Различий в распределении количества событий по пользователям в разрезе групп А и В не выявлено."
   ]
  },
  {
   "cell_type": "markdown",
   "id": "ef83081d",
   "metadata": {},
   "source": [
    "### Число событий в выборках по дням"
   ]
  },
  {
   "cell_type": "code",
   "execution_count": 61,
   "id": "e2e97567",
   "metadata": {},
   "outputs": [
    {
     "data": {
      "image/png": "[encoded data removed]",
      "text/plain": [
       "<Figure size 1300x500 with 2 Axes>"
      ]
     },
     "metadata": {},
     "output_type": "display_data"
    }
   ],
   "source": [
    "fig, ax = plt.subplots(1, 2, figsize=(13, 5))\n",
    "plt.suptitle('Распределение числа событий по дням')\n",
    "\n",
    "sns.histplot(data=df.query('group == \"A\"'), x='date', ax=ax[0])\n",
    "ax[0].set_title('Группа А')\n",
    "\n",
    "sns.histplot(data=df.query('group == \"B\"'), x='date', ax=ax[1])\n",
    "ax[1].set_title('Группа В')\n",
    "\n",
    "for i in range(2):\n",
    "    ax[i].set_xlabel('Дата')\n",
    "    ax[i].set_ylabel('Число событий')\n",
    "    ax[i].tick_params(axis='x', rotation=45)\n",
    "\n",
    "plt.show()"
   ]
  },
  {
   "cell_type": "markdown",
   "id": "c4107542",
   "metadata": {},
   "source": [
    "Пользователи контрольной группы А:\n",
    "- первую неделю \"раскачивались\",\n",
    "- на второй неделе кол-во событий резко выросло втрое,\n",
    "- пик активности 21 декабря, далее плавный спад,\n",
    "- распределение можно назвать нормальным.\n",
    "\n",
    "Пользователи группы В:\n",
    "- в первый же день показывают высокую активность, \n",
    "- но их активность не имеет нормального распределения, она скочкообразная с несколькоми пиками и провалами,\n",
    "- с 22 декабря идет спад активности, в этом обе группы солидарны."
   ]
  },
  {
   "cell_type": "markdown",
   "id": "35d8428c",
   "metadata": {},
   "source": [
    "Добавим распределение относительных показателей."
   ]
  },
  {
   "cell_type": "code",
   "execution_count": 62,
   "id": "b4ee02f2",
   "metadata": {},
   "outputs": [],
   "source": [
    "users_A = df.query('group == \"A\"')['user_id'].nunique()\n",
    "users_B = df.query('group == \"B\"')['user_id'].nunique()\n",
    "\n",
    "event_cnt_day = df.groupby(['group','date']).agg(event_count=('event_name', 'count')).reset_index()"
   ]
  },
  {
   "cell_type": "code",
   "execution_count": 63,
   "id": "7e19ca84",
   "metadata": {},
   "outputs": [],
   "source": [
    "event_cnt_day['ratio_cnt'] = event_cnt_day.groupby('group')['event_count']\\\n",
    "                                          .transform(lambda x: x / users_A if x.name == 'A' else x / users_B)"
   ]
  },
  {
   "cell_type": "code",
   "execution_count": 64,
   "id": "d819106a",
   "metadata": {},
   "outputs": [
    {
     "data": {
      "image/png": "[encoded data removed]",
      "text/plain": [
       "<Figure size 1000x500 with 1 Axes>"
      ]
     },
     "metadata": {},
     "output_type": "display_data"
    }
   ],
   "source": [
    "plt.figure(figsize=(10,5))\n",
    "sns.barplot(data=event_cnt_day, x='date', y='ratio_cnt', hue='group')\n",
    "plt.title('Распределение долей событий по дням')\n",
    "plt.xlabel('Дата')\n",
    "plt.ylabel('Кол-во событий')\n",
    "plt.xticks(rotation=45)\n",
    "plt.show()"
   ]
  },
  {
   "cell_type": "markdown",
   "id": "1e5cab40",
   "metadata": {},
   "source": [
    "### Число событий в выборках по lifetime"
   ]
  },
  {
   "cell_type": "markdown",
   "id": "539dec9a",
   "metadata": {},
   "source": [
    "Распределение событий по дням lifetime лучше смотреть на одном графике и в барплот."
   ]
  },
  {
   "cell_type": "code",
   "execution_count": 65,
   "id": "4dec04c1",
   "metadata": {},
   "outputs": [],
   "source": [
    "event_cnt_lt = df.groupby(['group','lifetime']).agg(event_count=('event_name', 'count')).reset_index()"
   ]
  },
  {
   "cell_type": "code",
   "execution_count": 66,
   "id": "06494dde",
   "metadata": {},
   "outputs": [
    {
     "data": {
      "image/png": "[encoded data removed]",
      "text/plain": [
       "<Figure size 1000x500 with 1 Axes>"
      ]
     },
     "metadata": {},
     "output_type": "display_data"
    }
   ],
   "source": [
    "plt.figure(figsize=(10,5))\n",
    "sns.barplot(data=event_cnt_lt, x='lifetime', y='event_count', hue='group')\n",
    "plt.title('Распределение числа событий по lifetime')\n",
    "plt.xlabel('Lifetime')\n",
    "plt.ylabel('Кол-во событий')\n",
    "plt.show()"
   ]
  },
  {
   "cell_type": "markdown",
   "id": "5854e96d",
   "metadata": {},
   "source": [
    "В обеих группах наблюдаем убывающую кривую. Однако у нас в группах неравное число пользователей, поэтому нельзя сравнивать абсолютные значения. Посчитаем долю, которую составляет число событий от числа пользователей в группах."
   ]
  },
  {
   "cell_type": "code",
   "execution_count": 67,
   "id": "cd970eea",
   "metadata": {},
   "outputs": [],
   "source": [
    "event_cnt_lt['ratio_cnt'] = event_cnt_lt.groupby('group')['event_count']\\\n",
    "                                          .transform(lambda x: x / users_A if x.name == 'A' else x / users_B)"
   ]
  },
  {
   "cell_type": "code",
   "execution_count": 68,
   "id": "1774a2d2",
   "metadata": {},
   "outputs": [
    {
     "data": {
      "image/png": "[encoded data removed]",
      "text/plain": [
       "<Figure size 1000x500 with 1 Axes>"
      ]
     },
     "metadata": {},
     "output_type": "display_data"
    }
   ],
   "source": [
    "plt.figure(figsize=(10,5))\n",
    "sns.barplot(data=event_cnt_lt, x='lifetime', y='ratio_cnt', hue='group')\n",
    "plt.title('Распределение долей событий по lifetime')\n",
    "plt.xlabel('Lifetime')\n",
    "plt.ylabel('Кол-во событий')\n",
    "plt.show()"
   ]
  },
  {
   "cell_type": "markdown",
   "id": "fe74cfd4",
   "metadata": {},
   "source": [
    "Теперь можем сравнивать активность пользователей по дням lifetime - и все равно группа А совершает больше событий, чем группа В, даже в относительных показателях."
   ]
  },
  {
   "cell_type": "markdown",
   "id": "9155b642",
   "metadata": {},
   "source": [
    "## Результаты A/B-тестирования"
   ]
  },
  {
   "cell_type": "markdown",
   "id": "6520198d",
   "metadata": {},
   "source": [
    "### Конверсия в воронке в выборках на разных этапах\n",
    "Соберем два дф по событиям в группах. И объединим в один."
   ]
  },
  {
   "cell_type": "code",
   "execution_count": 69,
   "id": "2edac0fe",
   "metadata": {},
   "outputs": [],
   "source": [
    "funnel_A = df.query('group == \"A\"').groupby('event_name')\\\n",
    "          .agg(users=('user_id', 'nunique'))\\\n",
    "          .sort_values(by='users', ascending=False).reset_index()\n",
    "funnel_B = df.query('group == \"B\"').groupby('event_name')\\\n",
    "          .agg(users=('user_id', 'nunique'))\\\n",
    "          .sort_values(by='users', ascending=False).reset_index()"
   ]
  },
  {
   "cell_type": "code",
   "execution_count": 70,
   "id": "7cabb95d",
   "metadata": {},
   "outputs": [
    {
     "data": {
      "text/html": [
       "<div>\n",
       "<style scoped>\n",
       "    .dataframe tbody tr th:only-of-type {\n",
       "        vertical-align: middle;\n",
       "    }\n",
       "\n",
       "    .dataframe tbody tr th {\n",
       "        vertical-align: top;\n",
       "    }\n",
       "\n",
       "    .dataframe thead th {\n",
       "        text-align: right;\n",
       "    }\n",
       "</style>\n",
       "<table border=\"1\" class=\"dataframe\">\n",
       "  <thead>\n",
       "    <tr style=\"text-align: right;\">\n",
       "      <th></th>\n",
       "      <th>event_name</th>\n",
       "      <th>users_A</th>\n",
       "      <th>users_B</th>\n",
       "    </tr>\n",
       "  </thead>\n",
       "  <tbody>\n",
       "    <tr>\n",
       "      <th>0</th>\n",
       "      <td>login</td>\n",
       "      <td>2604</td>\n",
       "      <td>876</td>\n",
       "    </tr>\n",
       "    <tr>\n",
       "      <th>1</th>\n",
       "      <td>product_page</td>\n",
       "      <td>1685</td>\n",
       "      <td>493</td>\n",
       "    </tr>\n",
       "    <tr>\n",
       "      <th>2</th>\n",
       "      <td>purchase</td>\n",
       "      <td>833</td>\n",
       "      <td>249</td>\n",
       "    </tr>\n",
       "    <tr>\n",
       "      <th>3</th>\n",
       "      <td>product_cart</td>\n",
       "      <td>782</td>\n",
       "      <td>244</td>\n",
       "    </tr>\n",
       "  </tbody>\n",
       "</table>\n",
       "</div>"
      ],
      "text/plain": [
       "     event_name  users_A  users_B\n",
       "0         login     2604      876\n",
       "1  product_page     1685      493\n",
       "2      purchase      833      249\n",
       "3  product_cart      782      244"
      ]
     },
     "execution_count": 70,
     "metadata": {},
     "output_type": "execute_result"
    }
   ],
   "source": [
    "funnel = funnel_A.merge(funnel_B, on='event_name', suffixes=('_A', '_B'))\n",
    "funnel"
   ]
  },
  {
   "cell_type": "markdown",
   "id": "18a2149f",
   "metadata": {},
   "source": [
    "В обеих группа событие \"purchase\" (покупка) стоит на предпоследнем месте. Получается, что приобрести товар можно с карточки товара, не проваливаясь в корзину.\n",
    "\n",
    "Для отображения правильной последовательности этапов пронумеруем их и зададим сортировку по номерам."
   ]
  },
  {
   "cell_type": "code",
   "execution_count": 71,
   "id": "53e361d4",
   "metadata": {},
   "outputs": [
    {
     "data": {
      "text/html": [
       "<div>\n",
       "<style scoped>\n",
       "    .dataframe tbody tr th:only-of-type {\n",
       "        vertical-align: middle;\n",
       "    }\n",
       "\n",
       "    .dataframe tbody tr th {\n",
       "        vertical-align: top;\n",
       "    }\n",
       "\n",
       "    .dataframe thead th {\n",
       "        text-align: right;\n",
       "    }\n",
       "</style>\n",
       "<table border=\"1\" class=\"dataframe\">\n",
       "  <thead>\n",
       "    <tr style=\"text-align: right;\">\n",
       "      <th></th>\n",
       "      <th>event_name</th>\n",
       "      <th>users_A</th>\n",
       "      <th>users_B</th>\n",
       "    </tr>\n",
       "  </thead>\n",
       "  <tbody>\n",
       "    <tr>\n",
       "      <th>0</th>\n",
       "      <td>login</td>\n",
       "      <td>2604</td>\n",
       "      <td>876</td>\n",
       "    </tr>\n",
       "    <tr>\n",
       "      <th>1</th>\n",
       "      <td>product_page</td>\n",
       "      <td>1685</td>\n",
       "      <td>493</td>\n",
       "    </tr>\n",
       "    <tr>\n",
       "      <th>2</th>\n",
       "      <td>product_cart</td>\n",
       "      <td>782</td>\n",
       "      <td>244</td>\n",
       "    </tr>\n",
       "    <tr>\n",
       "      <th>3</th>\n",
       "      <td>purchase</td>\n",
       "      <td>833</td>\n",
       "      <td>249</td>\n",
       "    </tr>\n",
       "  </tbody>\n",
       "</table>\n",
       "</div>"
      ],
      "text/plain": [
       "     event_name  users_A  users_B\n",
       "0         login     2604      876\n",
       "1  product_page     1685      493\n",
       "2  product_cart      782      244\n",
       "3      purchase      833      249"
      ]
     },
     "execution_count": 71,
     "metadata": {},
     "output_type": "execute_result"
    }
   ],
   "source": [
    "funnel.iloc[[2, 3]] = funnel.iloc[[3, 2]]\n",
    "funnel"
   ]
  },
  {
   "cell_type": "code",
   "execution_count": 72,
   "id": "d15df099",
   "metadata": {},
   "outputs": [
    {
     "data": {
      "text/plain": [
       "A    2604\n",
       "B     877\n",
       "Name: group, dtype: int64"
      ]
     },
     "execution_count": 72,
     "metadata": {},
     "output_type": "execute_result"
    }
   ],
   "source": [
    "# вспомним, сколько пользователей было в каждой группе\n",
    "df.groupby('user_id').agg({'group':'first'}).group.value_counts()"
   ]
  },
  {
   "cell_type": "markdown",
   "id": "2dac514f",
   "metadata": {},
   "source": [
    "Число пользователей соответствует первой строке новых дф, числу авторизовавшихся пользователей."
   ]
  },
  {
   "cell_type": "markdown",
   "id": "9562a289",
   "metadata": {},
   "source": [
    "Построим график воронки от начального шага воронки."
   ]
  },
  {
   "cell_type": "code",
   "execution_count": 73,
   "id": "43062177",
   "metadata": {
    "scrolled": false
   },
   "outputs": [
    {
     "data": {
      "image/png": "[encoded data removed]"
     },
     "metadata": {},
     "output_type": "display_data"
    }
   ],
   "source": [
    "fig = go.Figure()\n",
    "fig.add_trace(go.Funnel(\n",
    "    name = 'A',\n",
    "    y = funnel.event_name,\n",
    "    x = funnel.users_A,\n",
    "    textposition = \"inside\",\n",
    "    textinfo = \"value+percent initial\"))\n",
    "\n",
    "fig.add_trace(go.Funnel(\n",
    "    name = 'B',\n",
    "    orientation = \"h\",\n",
    "    y = funnel.event_name,\n",
    "    x = funnel.users_B,\n",
    "    textposition = \"inside\",\n",
    "    textinfo = \"value+percent initial\"))\n",
    "\n",
    "fig.update_layout(title='Воронка от общего числа пользователей', title_x = 0.5)\n",
    "fig.show()"
   ]
  },
  {
   "cell_type": "markdown",
   "id": "eedb885e",
   "metadata": {},
   "source": [
    "Конверсия на каждом шаге выше у группы А. Что уже не соответствует ожиданиям, что пользователи группы В покажут улучшение каждой метрики не менее, чем на 10%."
   ]
  },
  {
   "cell_type": "code",
   "execution_count": 74,
   "id": "f7b84968",
   "metadata": {},
   "outputs": [
    {
     "data": {
      "text/html": [
       "<div>\n",
       "<style scoped>\n",
       "    .dataframe tbody tr th:only-of-type {\n",
       "        vertical-align: middle;\n",
       "    }\n",
       "\n",
       "    .dataframe tbody tr th {\n",
       "        vertical-align: top;\n",
       "    }\n",
       "\n",
       "    .dataframe thead th {\n",
       "        text-align: right;\n",
       "    }\n",
       "</style>\n",
       "<table border=\"1\" class=\"dataframe\">\n",
       "  <thead>\n",
       "    <tr style=\"text-align: right;\">\n",
       "      <th></th>\n",
       "      <th>event_name</th>\n",
       "      <th>users_A</th>\n",
       "      <th>users_B</th>\n",
       "      <th>ratio_A</th>\n",
       "      <th>ratio_B</th>\n",
       "    </tr>\n",
       "  </thead>\n",
       "  <tbody>\n",
       "    <tr>\n",
       "      <th>0</th>\n",
       "      <td>login</td>\n",
       "      <td>2604</td>\n",
       "      <td>876</td>\n",
       "      <td>1.000000</td>\n",
       "      <td>0.998860</td>\n",
       "    </tr>\n",
       "    <tr>\n",
       "      <th>1</th>\n",
       "      <td>product_page</td>\n",
       "      <td>1685</td>\n",
       "      <td>493</td>\n",
       "      <td>0.647081</td>\n",
       "      <td>0.562144</td>\n",
       "    </tr>\n",
       "    <tr>\n",
       "      <th>2</th>\n",
       "      <td>product_cart</td>\n",
       "      <td>782</td>\n",
       "      <td>244</td>\n",
       "      <td>0.300307</td>\n",
       "      <td>0.278221</td>\n",
       "    </tr>\n",
       "    <tr>\n",
       "      <th>3</th>\n",
       "      <td>purchase</td>\n",
       "      <td>833</td>\n",
       "      <td>249</td>\n",
       "      <td>0.319892</td>\n",
       "      <td>0.283922</td>\n",
       "    </tr>\n",
       "  </tbody>\n",
       "</table>\n",
       "</div>"
      ],
      "text/plain": [
       "     event_name  users_A  users_B   ratio_A   ratio_B\n",
       "0         login     2604      876  1.000000  0.998860\n",
       "1  product_page     1685      493  0.647081  0.562144\n",
       "2  product_cart      782      244  0.300307  0.278221\n",
       "3      purchase      833      249  0.319892  0.283922"
      ]
     },
     "execution_count": 74,
     "metadata": {},
     "output_type": "execute_result"
    }
   ],
   "source": [
    "funnel['ratio_A'] = funnel['users_A']/users_A\n",
    "funnel['ratio_B'] = funnel['users_B']/users_B\n",
    "funnel"
   ]
  },
  {
   "cell_type": "code",
   "execution_count": 75,
   "id": "837c92ea",
   "metadata": {},
   "outputs": [
    {
     "name": "stdout",
     "output_type": "stream",
     "text": [
      "На 1 этапе воронки разница составила 15%\n",
      "На 2 этапе воронки разница составила 8%\n",
      "На 3 этапе воронки разница составила 13%\n"
     ]
    }
   ],
   "source": [
    "for i in range(1, len(funnel)):\n",
    "    difference = (funnel.iloc[i, 3]-funnel.iloc[i, 4])/funnel.iloc[i, 4]\n",
    "    print(f'На {i} этапе воронки разница составила {difference:.0%}')"
   ]
  },
  {
   "cell_type": "markdown",
   "id": "1619e174",
   "metadata": {},
   "source": [
    "- Конверсия в просмотр карточек товаров упала на 15%\n",
    "- Конверсия в просмотр корзины упала на 8%\n",
    "- Конверсия в покупки упала на 13%"
   ]
  },
  {
   "cell_type": "markdown",
   "id": "3a8b2bff",
   "metadata": {},
   "source": [
    "### Проверка разницы долей.\n",
    "Проверим статистическую разницу долей z-критерием."
   ]
  },
  {
   "cell_type": "markdown",
   "id": "a73f4c82",
   "metadata": {},
   "source": [
    "#### Уровень значимости и поправка\n",
    "Уровень значимости возьмем наиболее универсальный: $\\alpha = 0.05$\n",
    "\n",
    "Мы будем сравнивать доли уникальных пользователей на трех этапах воронки, поэтому у нас получается 3 теста. Необходимо учесть поправку, воспользуемся для этого методом Шидака по формуле: $$\\alpha_m = 1 - (1 - \\alpha)^{\\frac{1}{m}}$$\n",
    "\n",
    "### Проверка гипотез\n",
    "\n",
    "**Сформулируем гипотезы**:\n",
    "\n",
    "$\\begin{equation*}\n",
    " \\begin{cases}\n",
    "   H_0 :\\text{Доли уникальных пользователей, побывавших на каждом этапе воронки, между группами А и В одинаковы}\\\\\n",
    "   H_1 :\\text{Доли уникальных пользователей, побывавших на каждом этапе воронки, между группами А и В различны}\n",
    " \\end{cases}\n",
    "\\end{equation*}$\n",
    "\n",
    "Добавим цикл к нашей функции z-теста:"
   ]
  },
  {
   "cell_type": "markdown",
   "id": "809c49eb",
   "metadata": {},
   "source": [
    "Перепишем немного нашу функцию с учетом поправки и множественности тестов:"
   ]
  },
  {
   "cell_type": "code",
   "execution_count": 76,
   "id": "fff72ca3",
   "metadata": {},
   "outputs": [],
   "source": [
    "def make_ztest_lot(sample_A, sample_B, total_1, total_2, name, n, alpha=0.05):\n",
    "    alpha_sh = 1-(1-alpha)**(1/n)\n",
    "\n",
    "    stat, p_value = ztest([sample_A, sample_B], [total_1, total_2])\n",
    "\n",
    "    print('\\nСобытие:', name)\n",
    "    print('\\np-value:', p_value)\n",
    "    print(f'alpha: {alpha_sh:.3f}')\n",
    "\n",
    "    if p_value < alpha_sh:\n",
    "        print(f'Отвергаем нулевую гипотезу: между долями есть значимая разница')\n",
    "    else:\n",
    "        print(\n",
    "            f'Не получилось отвергнуть нулевую гипотезу, нет оснований считать доли разными')\n",
    "    print('='*80)"
   ]
  },
  {
   "cell_type": "code",
   "execution_count": 77,
   "id": "7d329732",
   "metadata": {},
   "outputs": [],
   "source": [
    "event_name = list(funnel.event_name)"
   ]
  },
  {
   "cell_type": "code",
   "execution_count": 78,
   "id": "b4b293f7",
   "metadata": {},
   "outputs": [
    {
     "name": "stdout",
     "output_type": "stream",
     "text": [
      "\n",
      "Событие: product_page\n",
      "\n",
      "p-value: 8.195976000351998e-06\n",
      "alpha: 0.017\n",
      "Отвергаем нулевую гипотезу: между долями есть значимая разница\n",
      "================================================================================\n",
      "\n",
      "Событие: product_cart\n",
      "\n",
      "p-value: 0.2215941567364419\n",
      "alpha: 0.017\n",
      "Не получилось отвергнуть нулевую гипотезу, нет оснований считать доли разными\n",
      "================================================================================\n",
      "\n",
      "Событие: purchase\n",
      "\n",
      "p-value: 0.0486476669504243\n",
      "alpha: 0.017\n",
      "Не получилось отвергнуть нулевую гипотезу, нет оснований считать доли разными\n",
      "================================================================================\n"
     ]
    }
   ],
   "source": [
    "# в цикле оставили только интересующие нас два этапа воронки\n",
    "for i in range(1, len(funnel)):\n",
    "    make_ztest_lot( \n",
    "        funnel.loc[i, 'users_A'], funnel.loc[i, 'users_B'],\n",
    "        funnel.loc[0, 'users_A'], funnel.loc[0, 'users_B'],\n",
    "        event_name[i], 3)"
   ]
  },
  {
   "cell_type": "markdown",
   "id": "1ef37555",
   "metadata": {},
   "source": [
    "- Статистическое сравнение долей показало значимую разницу только на первом этапе конверсии в просмотр карточек.\n",
    "- На этапе конверсии в просмотры корзины и в покупки нет оснований считать доли разными.\n",
    "\n",
    "Соответственно, результат всего АВ-теста таков, что нет оснований предполагать, что какая-то из групп показала себя лучше/хуже в конверсии."
   ]
  },
  {
   "cell_type": "markdown",
   "id": "69d41fcc",
   "metadata": {},
   "source": [
    "## Выводы\n",
    "<div style=\"border:solid blue 5px; padding: 20px\"> \n",
    "На этапе сверки ТЗ мы обнаружили несколько несоответствий:\n",
    "- В файле \"final_ab_participants.csv\" оказалась информация о двух тестах, и 1602 пользователя одновременно участвовали в обоих. Что не должно быть, т.к. может повлиять на результаты эксперимента. Однако проверка распределения этих пользователей в группах АВ для интересующего нас теста не выявило стат.значимости, значит, их распределение в группах равномерно и можно их не отсеивать. Хотя стоить отметить как возможный фактор недостоверности результатов теста.\n",
    "- В файле \"final_ab_events.csv\" должны быть события по 04 января 2021, а события заканчиваются 30 декабря 2020 года, что так же не соответствует ТЗ.\n",
    "- Одно из маркетинговых мероприятий попадает в даты проведения АВ-теста, чего быть не должно. Однако распределение событий по датам не показало всплесков активности пользователей в даты проведения акции, поэтому оставили данные без изменений.\n",
    "- При объединении пользователей \"final_ab_participants.csv\" с событиями обнаружилось, что почти половина пользователей не совершили ни одного действия. В итоге вместо 6000 осталась аудитория из 3481 пользователя.\n",
    "- В связи с отсечением части пользователей распределение на группы теста стало неравномерным: A 2604, B 877.\n",
    "\n",
    "Сравнение воронок конверсий в группах вместо ожидаемого прироста показало снижение конверсии в группе В.\n",
    "    \n",
    "Проверка на статистическую значимость с поправкой методом Шидака не дает оснований предполагать, что какая-то из групп показала себя лучше/хуже в конверсии.\n",
    "    \n",
    "Итого, тест проведен не корректно. И мы не можем на его основании сделать однозначного вывода о влиянии изменений, связанных с внедрением улучшенной рекомендательной системы, на конверсию пользователей ни на одном этапе воронки.\n",
    "    \n",
    "Тест необходимо провести заново, т.к. нарушено несколько важных его составляющих.\n",
    " </div>"
   ]
  }
 ],
 "metadata": {
  "ExecuteTimeLog": [
   {
    "duration": 1251,
    "start_time": "2023-07-05T18:49:42.210Z"
   },
   {
    "duration": 964,
    "start_time": "2023-07-05T18:49:43.463Z"
   },
   {
    "duration": 6,
    "start_time": "2023-07-05T18:49:44.429Z"
   },
   {
    "duration": 31,
    "start_time": "2023-07-05T18:49:44.436Z"
   },
   {
    "duration": 60,
    "start_time": "2023-07-05T18:49:44.469Z"
   },
   {
    "duration": 23,
    "start_time": "2023-07-05T18:49:44.530Z"
   },
   {
    "duration": 5,
    "start_time": "2023-07-05T18:49:44.554Z"
   },
   {
    "duration": 13,
    "start_time": "2023-07-05T18:49:44.561Z"
   },
   {
    "duration": 26,
    "start_time": "2023-07-05T18:49:44.576Z"
   },
   {
    "duration": 9,
    "start_time": "2023-07-05T18:49:44.603Z"
   },
   {
    "duration": 9,
    "start_time": "2023-07-05T18:49:44.613Z"
   },
   {
    "duration": 253,
    "start_time": "2023-07-05T18:49:44.623Z"
   },
   {
    "duration": 5,
    "start_time": "2023-07-05T18:49:44.877Z"
   },
   {
    "duration": 35,
    "start_time": "2023-07-05T18:49:44.885Z"
   },
   {
    "duration": 3,
    "start_time": "2023-07-05T18:49:44.921Z"
   },
   {
    "duration": 8,
    "start_time": "2023-07-05T18:49:44.925Z"
   },
   {
    "duration": 7,
    "start_time": "2023-07-05T18:49:44.934Z"
   },
   {
    "duration": 24,
    "start_time": "2023-07-05T18:49:44.943Z"
   },
   {
    "duration": 31,
    "start_time": "2023-07-05T18:49:44.969Z"
   },
   {
    "duration": 28,
    "start_time": "2023-07-05T18:49:45.002Z"
   },
   {
    "duration": 46,
    "start_time": "2023-07-05T18:49:45.032Z"
   },
   {
    "duration": 21,
    "start_time": "2023-07-05T18:49:45.079Z"
   },
   {
    "duration": 15,
    "start_time": "2023-07-05T18:49:45.101Z"
   },
   {
    "duration": 15,
    "start_time": "2023-07-05T18:49:45.117Z"
   },
   {
    "duration": 26,
    "start_time": "2023-07-05T18:49:45.133Z"
   },
   {
    "duration": 18,
    "start_time": "2023-07-05T18:49:45.160Z"
   },
   {
    "duration": 14,
    "start_time": "2023-07-05T18:49:45.179Z"
   },
   {
    "duration": 20,
    "start_time": "2023-07-05T18:49:45.195Z"
   },
   {
    "duration": 55,
    "start_time": "2023-07-05T18:49:45.217Z"
   },
   {
    "duration": 12,
    "start_time": "2023-07-05T18:49:45.273Z"
   },
   {
    "duration": 16,
    "start_time": "2023-07-05T18:49:45.287Z"
   },
   {
    "duration": 15,
    "start_time": "2023-07-05T18:49:45.304Z"
   },
   {
    "duration": 28,
    "start_time": "2023-07-05T18:49:45.320Z"
   },
   {
    "duration": 158,
    "start_time": "2023-07-05T18:49:45.350Z"
   },
   {
    "duration": 22,
    "start_time": "2023-07-05T18:49:45.510Z"
   },
   {
    "duration": 104,
    "start_time": "2023-07-05T18:49:45.534Z"
   },
   {
    "duration": 98,
    "start_time": "2023-07-05T18:49:45.639Z"
   },
   {
    "duration": 7,
    "start_time": "2023-07-05T18:49:45.738Z"
   },
   {
    "duration": 14,
    "start_time": "2023-07-05T18:49:45.747Z"
   },
   {
    "duration": 13,
    "start_time": "2023-07-05T18:49:45.762Z"
   },
   {
    "duration": 27,
    "start_time": "2023-07-05T18:49:45.778Z"
   },
   {
    "duration": 5,
    "start_time": "2023-07-05T18:49:45.806Z"
   },
   {
    "duration": 38,
    "start_time": "2023-07-05T18:49:45.812Z"
   },
   {
    "duration": 22,
    "start_time": "2023-07-05T18:49:45.852Z"
   },
   {
    "duration": 474,
    "start_time": "2023-07-05T18:49:45.875Z"
   },
   {
    "duration": 9,
    "start_time": "2023-07-05T18:49:46.350Z"
   },
   {
    "duration": 8,
    "start_time": "2023-07-05T18:49:46.361Z"
   },
   {
    "duration": 43,
    "start_time": "2023-07-05T18:49:46.370Z"
   },
   {
    "duration": 6,
    "start_time": "2023-07-05T18:49:46.415Z"
   },
   {
    "duration": 9,
    "start_time": "2023-07-05T18:49:46.423Z"
   },
   {
    "duration": 15,
    "start_time": "2023-07-05T18:49:46.433Z"
   },
   {
    "duration": 19,
    "start_time": "2023-07-05T18:49:46.449Z"
   },
   {
    "duration": 204,
    "start_time": "2023-07-05T18:49:46.470Z"
   },
   {
    "duration": 35,
    "start_time": "2023-07-05T18:49:46.676Z"
   },
   {
    "duration": 19,
    "start_time": "2023-07-05T18:49:46.713Z"
   },
   {
    "duration": 359,
    "start_time": "2023-07-05T18:49:46.733Z"
   },
   {
    "duration": 16,
    "start_time": "2023-07-05T18:49:47.093Z"
   },
   {
    "duration": 6,
    "start_time": "2023-07-05T18:49:47.111Z"
   },
   {
    "duration": 334,
    "start_time": "2023-07-05T18:49:47.118Z"
   },
   {
    "duration": 15,
    "start_time": "2023-07-05T18:49:47.454Z"
   },
   {
    "duration": 412,
    "start_time": "2023-07-05T18:49:47.471Z"
   },
   {
    "duration": 6,
    "start_time": "2023-07-05T18:49:47.884Z"
   },
   {
    "duration": 251,
    "start_time": "2023-07-05T18:49:47.892Z"
   },
   {
    "duration": 27,
    "start_time": "2023-07-05T18:49:48.145Z"
   },
   {
    "duration": 12,
    "start_time": "2023-07-05T18:49:48.173Z"
   },
   {
    "duration": 4,
    "start_time": "2023-07-05T18:49:48.199Z"
   },
   {
    "duration": 11,
    "start_time": "2023-07-05T18:49:48.204Z"
   },
   {
    "duration": 21,
    "start_time": "2023-07-05T18:49:48.217Z"
   },
   {
    "duration": 657,
    "start_time": "2023-07-05T18:49:48.239Z"
   },
   {
    "duration": 11,
    "start_time": "2023-07-05T18:49:48.898Z"
   },
   {
    "duration": 6,
    "start_time": "2023-07-05T18:49:48.911Z"
   },
   {
    "duration": 7,
    "start_time": "2023-07-05T18:49:48.919Z"
   },
   {
    "duration": 6,
    "start_time": "2023-07-05T18:49:48.927Z"
   },
   {
    "duration": 17,
    "start_time": "2023-07-05T18:49:48.935Z"
   },
   {
    "duration": 177,
    "start_time": "2023-07-05T18:54:13.107Z"
   },
   {
    "duration": 3,
    "start_time": "2023-07-05T18:54:59.417Z"
   }
  ],
  "kernelspec": {
   "display_name": "Python 3 (ipykernel)",
   "language": "python",
   "name": "python3"
  },
  "language_info": {
   "codemirror_mode": {
    "name": "ipython",
    "version": 3
   },
   "file_extension": ".py",
   "mimetype": "text/x-python",
   "name": "python",
   "nbconvert_exporter": "python",
   "pygments_lexer": "ipython3",
   "version": "3.9.15"
  },
  "toc": {
   "base_numbering": 1,
   "nav_menu": {},
   "number_sections": true,
   "sideBar": true,
   "skip_h1_title": true,
   "title_cell": "Table of Contents",
   "title_sidebar": "Contents",
   "toc_cell": true,
   "toc_position": {
    "height": "calc(100% - 180px)",
    "left": "10px",
    "top": "150px",
    "width": "309.167px"
   },
   "toc_section_display": true,
   "toc_window_display": true
  }
 },
 "nbformat": 4,
 "nbformat_minor": 5
}
